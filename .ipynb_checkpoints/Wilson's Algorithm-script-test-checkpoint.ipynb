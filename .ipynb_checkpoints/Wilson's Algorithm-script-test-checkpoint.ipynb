{
 "cells": [
  {
   "cell_type": "code",
   "execution_count": 5,
   "metadata": {},
   "outputs": [],
   "source": [
    "import numpy as np\n",
    "import random\n",
    "from matplotlib import pyplot as plt\n",
    "import scipy as sp\n",
    "import networkx as nx\n",
    "import collections"
   ]
  },
  {
   "cell_type": "markdown",
   "metadata": {},
   "source": [
    "### Uniform Spanning Tree\n",
    "\n",
    "A spanning tree of a finite connected graph G is a connected subgraph of G containing every vertex and no cycles.  \n",
    "(Ref: https://mathweb.ucsd.edu/~jschwein/LERW.pdf)"
   ]
  },
  {
   "cell_type": "markdown",
   "metadata": {},
   "source": [
    "### Wilson's Algorithm\n",
    "\n",
    "0. Create empty cells\n",
    "1. Set the starting position\n",
    "2. While it's not a spanning tree\n",
    "    - Perform LERW in a network  \n",
    "        1) Pick any random position  \n",
    "        2) Perform a random walk  \n",
    "        3) Check if the position is already visited  \n",
    "            -- If yes, erase the loop and restart the walk\n",
    "            -- If no, add to the trace\n",
    "        4) Check if the current position is already in the trace"
   ]
  },
  {
   "cell_type": "markdown",
   "metadata": {},
   "source": [
    "### Version 1.1"
   ]
  },
  {
   "cell_type": "code",
   "execution_count": 6,
   "metadata": {},
   "outputs": [],
   "source": [
    "# Define a function to perform LERW\n",
    "\n",
    "def LERW(start_position, goal, dim):\n",
    "    \n",
    "    visited_cell = []\n",
    "    current_position = start_position\n",
    "    visited_cell.append(current_position)\n",
    "    while current_position != goal:\n",
    "        neighbors = [(current_position[0],current_position[1]-1),(current_position[0],current_position[1]+1),\n",
    "                     (current_position[0]-1,current_position[1]),(current_position[0]+1,current_position[1])] # (left,right,up,down)\n",
    "        feasible_neighbors = [i for i in neighbors if (i[0] >= 0 and i[0] <= dim-1) and (i[1] >= 0 and i[1] <= dim-1)]\n",
    "        next_position = random.choice(feasible_neighbors)\n",
    "        # Check if there is a loop\n",
    "        if next_position not in visited_cell:\n",
    "            visited_cell.append(next_position)\n",
    "        else:\n",
    "            # reset path\n",
    "            if visited_cell.index(next_position) == 0:\n",
    "                visited_cell = [visited_cell[0]]\n",
    "            else:\n",
    "                visited_cell = visited_cell[:visited_cell.index(next_position)+1]\n",
    "\n",
    "        current_position = next_position\n",
    "    return start_position, goal, current_position, visited_cell\n",
    "\n",
    "def cont_LERW(set_path, remaining_cell, dim):\n",
    "    \n",
    "    new_path = []\n",
    "    new_start_position = random.choice(remaining_cell)\n",
    "    current_position = new_start_position\n",
    "    new_path.append(current_position)\n",
    "    \n",
    "    while current_position not in set_path:\n",
    "        neighbors = [(current_position[0],current_position[1]-1),(current_position[0],current_position[1]+1),\n",
    "                     (current_position[0]-1,current_position[1]),(current_position[0]+1,current_position[1])] # (left,right,up,down)\n",
    "        feasible_neighbors = [i for i in neighbors if (i[0] >= 0 and i[0] <= dim-1) and (i[1] >= 0 and i[1] <= dim-1)]\n",
    "        next_position = random.choice(feasible_neighbors)\n",
    "        \n",
    "        # Unprecedented path: add to the path\n",
    "        if (next_position not in new_path) and (next_position not in set_path):\n",
    "            new_path.append(next_position)\n",
    "        \n",
    "        # Adjoining path: add to the path and exit the loop\n",
    "        if next_position in set_path:\n",
    "            new_path.append(next_position)\n",
    "            break\n",
    "        \n",
    "        # Loop detected: perform loop-erased RW\n",
    "        if next_position in new_path:\n",
    "            if new_path.index(next_position) == 0:\n",
    "                new_path = [new_path[0]]\n",
    "            else:\n",
    "                new_path = new_path[:new_path.index(next_position)+1]\n",
    "                \n",
    "        # check if current_position is already in the path to goal.\n",
    "        current_position = next_position\n",
    "    return new_start_position, current_position, new_path"
   ]
  },
  {
   "cell_type": "code",
   "execution_count": 7,
   "metadata": {},
   "outputs": [],
   "source": [
    "# Define a function sample_spanning_tree\n",
    "\n",
    "def sample_spanning_tree(spMatrix):\n",
    "    '''NOT DONE YET!\n",
    "    REMAINING TASKS:\n",
    "    1. Modify cont_LERW to correctly return the final result\n",
    "    2. Return the sparse matrix representing network from the main function'''\n",
    "    dim = spMatrix.getnnz()\n",
    "    universe = [(i,j) for i in range(spMatrix.getnnz()) for j in range(spMatrix.getnnz())]\n",
    "    start_position = random.choice(universe)\n",
    "    universe.remove(start_position)\n",
    "    goal = random.choice(universe)\n",
    "    set_path = LERW(start_position, goal, dim)[3]\n",
    "    \n",
    "    # After obtaining the first path to the goal, generate the next RW until it's a spanning tree.\n",
    "    remaining_cell = [i for i in universe if i not in set_path]\n",
    "    while len(remaining_cell) > 0:\n",
    "        add_path = cont_LERW(set_path, remaining_cell, dim)[2]\n",
    "        set_path.extend(add_path)\n",
    "        remaining_cell = [i for i in universe if i not in set_path]\n",
    "    return set_path, remaining_cell, add_path"
   ]
  },
  {
   "cell_type": "markdown",
   "metadata": {},
   "source": [
    "### Version 1.2"
   ]
  },
  {
   "cell_type": "code",
   "execution_count": 17,
   "metadata": {},
   "outputs": [],
   "source": [
    "G = nx.MultiDiGraph()\n",
    "G.add_edge(0, 1)\n",
    "G.add_edge(0, 3)\n",
    "G.add_edge(0, 4)\n",
    "G.add_edge(1, 0)\n",
    "G.add_edge(3, 0)\n",
    "G.add_edge(4, 0)\n",
    "G.add_edge(1, 4)\n",
    "G.add_edge(1, 5)\n",
    "G.add_edge(1, 2)\n",
    "G.add_edge(4, 1)\n",
    "G.add_edge(5, 1)\n",
    "G.add_edge(2, 1)\n",
    "G.add_edge(2, 4)\n",
    "G.add_edge(2, 5)\n",
    "G.add_edge(2, 6)\n",
    "G.add_edge(4, 2)\n",
    "G.add_edge(5, 2)\n",
    "G.add_edge(6, 2)\n",
    "G.add_edge(3, 4)\n",
    "G.add_edge(4, 3)\n",
    "G.add_edge(4, 5)\n",
    "G.add_edge(5, 4)\n",
    "G.add_edge(5, 6)\n",
    "G.add_edge(6, 5)\n",
    "\n",
    "G2 = nx.MultiDiGraph()\n",
    "G2.add_edge(0,1)\n",
    "G2.add_edge(1,0)\n",
    "G2.add_edge(0,2)\n",
    "G2.add_edge(2,0)\n",
    "G2.add_edge(1,2)\n",
    "G2.add_edge(2,1)\n",
    "\n",
    "G3 = nx.MultiDiGraph()\n",
    "G3.add_edge(0,1)\n",
    "G3.add_edge(1,0)\n",
    "G3.add_edge(0,2)\n",
    "G3.add_edge(2,0)\n",
    "G3.add_edge(0,3)\n",
    "G3.add_edge(3,0)\n",
    "G3.add_edge(1,2)\n",
    "G3.add_edge(2,1)\n",
    "G3.add_edge(1,3)\n",
    "G3.add_edge(3,1)\n",
    "G3.add_edge(2,3)\n",
    "G3.add_edge(3,2)\n",
    "\n",
    "G4 = nx.MultiDiGraph()\n",
    "G4.add_edge(0,1)\n",
    "G4.add_edge(1,0)\n",
    "G4.add_edge(0,2)\n",
    "G4.add_edge(2,0)\n",
    "G4.add_edge(0,3)\n",
    "G4.add_edge(3,0)\n",
    "G4.add_edge(0,4)\n",
    "G4.add_edge(4,0)\n",
    "G4.add_edge(1,2)\n",
    "G4.add_edge(2,1)\n",
    "G4.add_edge(1,3)\n",
    "G4.add_edge(3,1)\n",
    "G4.add_edge(1,4)\n",
    "G4.add_edge(4,1)\n",
    "G4.add_edge(2,3)\n",
    "G4.add_edge(3,2)\n",
    "G4.add_edge(2,4)\n",
    "G4.add_edge(4,2)\n",
    "G4.add_edge(3,4)\n",
    "G4.add_edge(4,3)\n",
    "\n",
    "A = nx.to_scipy_sparse_matrix(G4, nodelist=[0, 1, 2, 3, 4]) # 5 nodes\n",
    "B = nx.to_scipy_sparse_matrix(G, nodelist=[0, 1, 2, 3, 4, 5, 6]) # 7 nodes\n",
    "C = nx.to_scipy_sparse_matrix(G2, nodelist=[0, 1, 2]) # 3 nodes\n",
    "D = nx.to_scipy_sparse_matrix(G3, nodelist=[0, 1, 2, 3]) # 4 nodes"
   ]
  },
  {
   "cell_type": "code",
   "execution_count": 9,
   "metadata": {},
   "outputs": [
    {
     "name": "stdout",
     "output_type": "stream",
     "text": [
      "[[0 1 1 1 1]\n",
      " [1 0 1 1 1]\n",
      " [1 1 0 1 1]\n",
      " [1 1 1 0 1]\n",
      " [1 1 1 1 0]]\n"
     ]
    }
   ],
   "source": [
    "print(A.todense())\n",
    "#print(B)"
   ]
  },
  {
   "cell_type": "code",
   "execution_count": 10,
   "metadata": {},
   "outputs": [
    {
     "name": "stdout",
     "output_type": "stream",
     "text": [
      "[[0 1 0 1 1 0 0]\n",
      " [1 0 1 0 1 1 0]\n",
      " [0 1 0 0 1 1 1]\n",
      " [1 0 0 0 1 0 0]\n",
      " [1 1 1 1 0 1 0]\n",
      " [0 1 1 0 1 0 1]\n",
      " [0 0 1 0 0 1 0]]\n"
     ]
    }
   ],
   "source": [
    "print(B.todense())"
   ]
  },
  {
   "cell_type": "code",
   "execution_count": 11,
   "metadata": {
    "scrolled": true
   },
   "outputs": [
    {
     "ename": "NameError",
     "evalue": "name 'selected_node' is not defined",
     "output_type": "error",
     "traceback": [
      "\u001b[1;31m---------------------------------------------------------------------------\u001b[0m",
      "\u001b[1;31mNameError\u001b[0m                                 Traceback (most recent call last)",
      "\u001b[1;32m<ipython-input-11-03de863d869f>\u001b[0m in \u001b[0;36m<module>\u001b[1;34m\u001b[0m\n\u001b[0;32m     12\u001b[0m \u001b[0mpath\u001b[0m \u001b[1;33m=\u001b[0m \u001b[1;33m[\u001b[0m\u001b[1;33m]\u001b[0m\u001b[1;33m\u001b[0m\u001b[1;33m\u001b[0m\u001b[0m\n\u001b[0;32m     13\u001b[0m \u001b[0mpath\u001b[0m\u001b[1;33m.\u001b[0m\u001b[0mappend\u001b[0m\u001b[1;33m(\u001b[0m\u001b[0mstart_node\u001b[0m\u001b[1;33m)\u001b[0m\u001b[1;33m\u001b[0m\u001b[1;33m\u001b[0m\u001b[0m\n\u001b[1;32m---> 14\u001b[1;33m \u001b[0mselected_node\u001b[0m\u001b[1;33m[\u001b[0m\u001b[0mstart_node\u001b[0m\u001b[1;33m]\u001b[0m \u001b[1;33m=\u001b[0m \u001b[1;32mTrue\u001b[0m\u001b[1;33m\u001b[0m\u001b[1;33m\u001b[0m\u001b[0m\n\u001b[0m",
      "\u001b[1;31mNameError\u001b[0m: name 'selected_node' is not defined"
     ]
    }
   ],
   "source": [
    "A = nx.to_scipy_sparse_matrix(G, nodelist=[0, 1, 2, 3, 4])\n",
    "num_nodes = A.shape[0]\n",
    "A = A.todense()\n",
    "universe_node_list = list(range(num_nodes))\n",
    "unused_node_list = list(range(num_nodes))\n",
    "visited_node = [False for node in range(num_nodes)]\n",
    "output = [[0 for col in range(num_nodes)] for row in range(num_nodes)]\n",
    "start_node = random.choice(unused_node_list)\n",
    "unused_node_list.remove(start_node)\n",
    "terminal_node = random.choice(unused_node_list)\n",
    "unused_node_list.remove(terminal_node)\n",
    "path = []\n",
    "path.append(start_node)\n",
    "selected_node[start_node] = True"
   ]
  },
  {
   "cell_type": "code",
   "execution_count": null,
   "metadata": {},
   "outputs": [],
   "source": [
    "(start_node, terminal_node)"
   ]
  },
  {
   "cell_type": "code",
   "execution_count": null,
   "metadata": {},
   "outputs": [],
   "source": [
    "path"
   ]
  },
  {
   "cell_type": "code",
   "execution_count": null,
   "metadata": {
    "scrolled": true
   },
   "outputs": [],
   "source": [
    "print(start_node)\n",
    "while visited_node[terminal_node] == False:\n",
    "    feasible_node = []\n",
    "    for j in range(num_nodes):\n",
    "        if A[start_node, j] > 0: # This node pair is connected        \n",
    "            feasible_node.append(j)\n",
    "    next_node = random.choice(feasible_node)\n",
    "    print(next_node)\n",
    "    \n",
    "    # Update a new initial node and add the edge to the graph\n",
    "    visited_node[next_node] = True\n",
    "    path.append(next_node)  \n",
    "    start_node = next_node\n",
    "    \n",
    "    # If there's a loop, clear the loop (reset the path + work as if that path doesn't exist)\n",
    "    if next_node in path:\n",
    "        #output[start_node][next_node] = 0\n",
    "        #output[next_node][start_node] = 0\n",
    "        path = path[:path.index(next_node)+1]\n",
    "        for i in path[path.index(next_node)+1:-1]: # Update selected node in the loop back to False\n",
    "            selected_node[i] = False\n",
    "            \n",
    "# Update visited_node status after obtaining initial path           \n",
    "for i in universe_node_list:\n",
    "    if i in path:\n",
    "        visited_node[i] = True\n",
    "    else:\n",
    "        visited_node[i] = False\n",
    "        \n",
    "# Update the output graph based on path result\n",
    "pair = []\n",
    "for i in range(len(path)-1):\n",
    "    pair.append((path[i],path[i+1]))\n",
    "\n",
    "for i in pair:\n",
    "    output[i[0]][i[1]] = 1\n",
    "    output[i[1]][i[0]] = 1"
   ]
  },
  {
   "cell_type": "code",
   "execution_count": null,
   "metadata": {},
   "outputs": [],
   "source": [
    "path"
   ]
  },
  {
   "cell_type": "code",
   "execution_count": null,
   "metadata": {},
   "outputs": [],
   "source": [
    "visited_node"
   ]
  },
  {
   "cell_type": "code",
   "execution_count": null,
   "metadata": {
    "scrolled": true
   },
   "outputs": [],
   "source": [
    "output"
   ]
  },
  {
   "cell_type": "code",
   "execution_count": null,
   "metadata": {},
   "outputs": [],
   "source": [
    "[i for i in range(len(visited_node)) if visited_node[i] == False]"
   ]
  },
  {
   "cell_type": "code",
   "execution_count": null,
   "metadata": {},
   "outputs": [],
   "source": [
    "# Continue picking a random remaining node and walk until we join the initial path\n",
    "\n",
    "remaining_node = [i for i in range(len(visited_node)) if visited_node[i] == False]\n",
    "add_path = []\n",
    "while (False in visited_node):\n",
    "    new_start_node = random.choice(remaining_node)\n",
    "    visited_node[new_start_node] = True\n",
    "    remaining_node.remove(new_start_node)\n",
    "    print(new_start_node)\n",
    "    if len(remaining_node) > 0:\n",
    "        #new_next_node = random.choice(remaining_node)\n",
    "        new_feasible_node = []\n",
    "        for j in range(num_nodes):\n",
    "            if A[new_start_node, j] > 0: # This node pair is connected        \n",
    "                new_feasible_node.append(j)\n",
    "        new_next_node = random.choice(new_feasible_node)\n",
    "        print(new_next_node)\n",
    "    # Walk until it joins the original path\n",
    "    if new_next_node in path:\n",
    "        visited_node[new_next_node] = True\n",
    "        add_path.append((new_start_node, new_next_node))\n",
    "        output[new_start_node][new_next_node] = 1\n",
    "        output[new_next_node][new_start_node] = 1\n",
    "    else: # not joining the original path yet: check for a loop\n",
    "        if visited_node[new_next_node] and new_next_node in remaining_node:\n",
    "            add_path = add_path[:add_path.index(new_next_node)+1]\n",
    "            new_start_node = new_next_node\n",
    "            continue\n",
    "        else:\n",
    "            visited_node[new_next_node] = True\n",
    "            add_path.append((new_start_node, new_next_node))\n",
    "            output[new_start_node][new_next_node] = 1\n",
    "            output[new_next_node][new_start_node] = 1\n",
    "            new_start_node = new_next_node"
   ]
  },
  {
   "cell_type": "code",
   "execution_count": null,
   "metadata": {},
   "outputs": [],
   "source": [
    "visited_node"
   ]
  },
  {
   "cell_type": "code",
   "execution_count": null,
   "metadata": {},
   "outputs": [],
   "source": [
    "add_path"
   ]
  },
  {
   "cell_type": "code",
   "execution_count": null,
   "metadata": {},
   "outputs": [],
   "source": [
    "output"
   ]
  },
  {
   "cell_type": "code",
   "execution_count": null,
   "metadata": {},
   "outputs": [],
   "source": [
    "for i in range(len(output)):\n",
    "    for j in range(0+i, len(output)):\n",
    "        if output[i][j] != 0:\n",
    "            print(\"%d - %d: %d\" % (i, j, output[i][j]))"
   ]
  },
  {
   "cell_type": "markdown",
   "metadata": {},
   "source": [
    "### V1.3 Building the function"
   ]
  },
  {
   "cell_type": "code",
   "execution_count": null,
   "metadata": {},
   "outputs": [],
   "source": [
    "def output_update(pair, output):\n",
    "    # Using pairs of nodes to generate output\n",
    "    for i in pair:\n",
    "        output[i[0]][i[1]] = 1\n",
    "        output[i[1]][i[0]] = 1\n",
    "    return output"
   ]
  },
  {
   "cell_type": "code",
   "execution_count": null,
   "metadata": {},
   "outputs": [],
   "source": [
    "def sample_spanning_tree(A):\n",
    "    # Step 1: Function setup\n",
    "    num_nodes = A.shape[0]\n",
    "    mat_A = A.todense()\n",
    "    universe_node_list = list(range(num_nodes))\n",
    "    unused_node_list = list(range(num_nodes))\n",
    "    visited_node = [False for node in range(num_nodes)]\n",
    "    output_init = [[0 for col in range(num_nodes)] for row in range(num_nodes)]\n",
    "    start_node = random.choice(unused_node_list)\n",
    "    #print(start_node)\n",
    "    unused_node_list.remove(start_node)\n",
    "    terminal_node = random.choice(unused_node_list)\n",
    "    unused_node_list.remove(terminal_node)\n",
    "    path = []\n",
    "    path.append(start_node)\n",
    "    visited_node[start_node] = True\n",
    "    \n",
    "    # Step 2: Perform LERW and obtain the initial path\n",
    "    while visited_node[terminal_node] == False:\n",
    "        feasible_node = []\n",
    "        for j in range(num_nodes):\n",
    "            if mat_A[start_node, j] > 0: # This node pair is connected        \n",
    "                feasible_node.append(j)\n",
    "        next_node = random.choice(feasible_node)\n",
    "\n",
    "        # Update a new initial node and add the edge to the graph\n",
    "        visited_node[next_node] = True\n",
    "        path.append(next_node)  \n",
    "        start_node = next_node\n",
    "\n",
    "        # If there's a loop, clear the loop (reset the path + work as if that path doesn't exist)\n",
    "        if next_node in path:\n",
    "            #output[start_node][next_node] = 0\n",
    "            #output[next_node][start_node] = 0\n",
    "            path = path[:path.index(next_node)+1]\n",
    "            for i in path[path.index(next_node)+1:-1]: # Update selected node in the loop back to False\n",
    "                visited_node[i] = False\n",
    "                \n",
    "    init_path = list.copy(path)\n",
    "    # Update visited_node status after obtaining initial path           \n",
    "    for i in universe_node_list:\n",
    "        if i in init_path:\n",
    "            visited_node[i] = True\n",
    "        else:\n",
    "            visited_node[i] = False\n",
    "\n",
    "    # Update the output graph based on path result\n",
    "    pair = []\n",
    "    for i in range(len(init_path)-1):\n",
    "        pair.append((init_path[i],init_path[i+1]))\n",
    "\n",
    "    output = output_update(pair, output_init)\n",
    "    \n",
    "    # Step 3: Continue picking a random remaining node and walk to the initial path\n",
    "    # until all nodes are visited.\n",
    "    if set(path) == set(universe_node_list): # completely visited\n",
    "        return output\n",
    "    \n",
    "    # Set up\n",
    "    remaining_node = [i for i in range(len(visited_node)) if visited_node[i] == False]\n",
    "    pair_path = []\n",
    "    new_path = []\n",
    "    temp_path = []\n",
    "    is_connected = False\n",
    "    \n",
    "    while len(remaining_node) > 0 or is_connected == False:\n",
    "        new_start_node = random.choice(remaining_node)\n",
    "        #print(new_start_node)\n",
    "        temp_path.append(new_start_node)\n",
    "        new_feasible_node = []\n",
    "        for k in range(num_nodes):\n",
    "            if A[new_start_node, k] > 0: # This node pair is connected        \n",
    "                new_feasible_node.append(k)\n",
    "        new_next_node = random.choice(new_feasible_node)\n",
    "        #print(new_next_node)\n",
    "\n",
    "        if new_next_node in path:\n",
    "            pair_path.append((new_start_node, new_next_node))\n",
    "            path.extend(temp_path)\n",
    "            #output[new_start_node][new_next_node] = 1\n",
    "            #output[new_next_node][new_start_node] = 1\n",
    "            remaining_node.remove(new_start_node)\n",
    "            is_connected = True\n",
    "            temp_path.clear()\n",
    "\n",
    "        else:\n",
    "            if new_next_node not in temp_path:\n",
    "                if len(remaining_node) == 1: #this is the last node, and it should connect to node in path\n",
    "                    new_start_node = new_next_node\n",
    "                    new_feasible_node = []\n",
    "                    for k in range(num_nodes):\n",
    "                        if A[new_start_node, k] > 0: # This node pair is connected        \n",
    "                            new_feasible_node.append(k)\n",
    "                    new_next_node = random.choice(new_feasible_node)\n",
    "                    temp_path = temp_path[:temp_path.index(new_next_node)+1]\n",
    "                    path.extend(temp_path)\n",
    "                    pair_path.append((new_start_node, new_next_node))\n",
    "                    remaining_node.extend(loop)\n",
    "                    break\n",
    "                else:\n",
    "                    temp_path.append(new_next_node)\n",
    "                    remaining_node.remove(new_next_node)\n",
    "            else: # This is a loop\n",
    "                loop = temp_path[temp_path.index(new_next_node)+1:-1]\n",
    "                temp_path = temp_path[:temp_path.index(new_next_node)+1]\n",
    "                remaining_node.extend(loop)\n",
    "                \n",
    "    output = output_update(pair_path, output)  \n",
    "    \n",
    "    return output, init_path, pair_path, pair, remaining_node, sp.sparse.csr_matrix(output)"
   ]
  },
  {
   "cell_type": "code",
   "execution_count": null,
   "metadata": {},
   "outputs": [],
   "source": [
    "sample_spanning_tree(B)[5].todense()"
   ]
  },
  {
   "cell_type": "code",
   "execution_count": null,
   "metadata": {
    "scrolled": false
   },
   "outputs": [],
   "source": [
    "path = [3,4]\n",
    "visited_node = [False,False,False,True,True]\n",
    "num_nodes = len(visited_node)\n",
    "remaining_node = [i for i in range(len(visited_node)) if visited_node[i] == False]\n",
    "pair_path = []\n",
    "new_path = []\n",
    "temp_path = []\n",
    "output = [[0 for col in range(num_nodes)] for row in range(num_nodes)]\n",
    "is_connected = False\n",
    "\n",
    "while len(remaining_node) > 0 or is_connected == False:\n",
    "    new_start_node = random.choice(remaining_node)\n",
    "    print(new_start_node)\n",
    "    temp_path.append(new_start_node)\n",
    "    new_feasible_node = []\n",
    "    for k in range(num_nodes):\n",
    "        if A[new_start_node, k] > 0: # This node pair is connected        \n",
    "            new_feasible_node.append(k)\n",
    "    new_next_node = random.choice(new_feasible_node)\n",
    "    print(new_next_node)\n",
    "    \n",
    "    if new_next_node in path:\n",
    "        pair_path.append((new_start_node, new_next_node))\n",
    "        path.extend(temp_path)\n",
    "        output[new_start_node][new_next_node] = 1\n",
    "        output[new_next_node][new_start_node] = 1\n",
    "        remaining_node.remove(new_start_node)\n",
    "        is_connected = True\n",
    "        temp_path.clear()\n",
    "\n",
    "    else:\n",
    "        if new_next_node not in temp_path:\n",
    "            temp_path.append(new_next_node)\n",
    "            remaining_node.remove(new_next_node)\n",
    "        else: # This is a loop\n",
    "            loop = temp_path[temp_path.index(new_next_node)+1:-1]\n",
    "            temp_path = temp_path[:temp_path.index(new_next_node)+1]\n",
    "            remaining_node.extend(loop)\n",
    "\n",
    "output = "
   ]
  },
  {
   "cell_type": "code",
   "execution_count": null,
   "metadata": {
    "scrolled": true
   },
   "outputs": [],
   "source": [
    "print(\"path = \", path)\n",
    "print(\"remaining_node = \", remaining_node)\n",
    "print(\"Is_connected = \", is_connected)\n",
    "print(\"new_start_node = \", new_start_node)\n",
    "print(\"new_next_node = \", new_next_node)\n",
    "print(\"temp_path = \", temp_path)\n",
    "print(\"new_path = \", new_path)\n",
    "print(\"add_path = \", pair_path)\n",
    "print(\"output = \", output)"
   ]
  },
  {
   "cell_type": "markdown",
   "metadata": {},
   "source": [
    "### V1.4"
   ]
  },
  {
   "cell_type": "code",
   "execution_count": 18,
   "metadata": {},
   "outputs": [],
   "source": [
    "def output_update(pair, output):\n",
    "    # Using pairs of nodes to generate output\n",
    "    for i in pair:\n",
    "        output[i[0]][i[1]] = 1\n",
    "        output[i[1]][i[0]] = 1\n",
    "    return output"
   ]
  },
  {
   "cell_type": "code",
   "execution_count": 19,
   "metadata": {},
   "outputs": [],
   "source": [
    "def sample_spanning_tree(A):\n",
    "    # Step 1: Function setup\n",
    "    num_nodes = A.shape[0]\n",
    "    mat_A = A.todense()\n",
    "    universe_node_list = list(range(num_nodes))\n",
    "    unused_node_list = list(range(num_nodes))\n",
    "    visited_node = [False for node in range(num_nodes)]\n",
    "    output_init = [[0 for col in range(num_nodes)] for row in range(num_nodes)]\n",
    "    start_node = random.choice(unused_node_list)\n",
    "    #print(start_node)\n",
    "    unused_node_list.remove(start_node)\n",
    "    terminal_node = random.choice(unused_node_list)\n",
    "    unused_node_list.remove(terminal_node)\n",
    "    path = []\n",
    "    path.append(start_node)\n",
    "    visited_node[start_node] = True\n",
    "    is_already_tree = False\n",
    "    \n",
    "    # Step 2: Perform LERW and obtain the initial path\n",
    "    while visited_node[terminal_node] == False:\n",
    "        feasible_node = []\n",
    "        for j in range(num_nodes):\n",
    "            if mat_A[start_node, j] > 0: # This node pair is connected        \n",
    "                feasible_node.append(j)\n",
    "        next_node = random.choice(feasible_node)\n",
    "\n",
    "        # Update a new initial node and add the edge to the graph\n",
    "        visited_node[next_node] = True\n",
    "        path.append(next_node)  \n",
    "        start_node = next_node\n",
    "\n",
    "        # If there's a loop, clear the loop (reset the path + work as if that path doesn't exist)\n",
    "        if next_node in path:\n",
    "            #output[start_node][next_node] = 0\n",
    "            #output[next_node][start_node] = 0\n",
    "            path = path[:path.index(next_node)+1]\n",
    "            for i in path[path.index(next_node)+1:-1]: # Update selected node in the loop back to False\n",
    "                visited_node[i] = False\n",
    "                \n",
    "    init_path = list.copy(path)\n",
    "    # Update visited_node status after obtaining initial path           \n",
    "    for i in universe_node_list:\n",
    "        if i in init_path:\n",
    "            visited_node[i] = True\n",
    "        else:\n",
    "            visited_node[i] = False\n",
    "\n",
    "    # Update the output graph based on path result\n",
    "    pair = []\n",
    "    for i in range(len(init_path)-1):\n",
    "        pair.append((init_path[i],init_path[i+1]))\n",
    "\n",
    "    output = output_update(pair, output_init)\n",
    "    \n",
    "    # Step 3: Continue picking a random remaining node and walk to the initial path\n",
    "    # until all nodes are visited.\n",
    "    if set(path) == set(universe_node_list): # completely visited\n",
    "        #print(\"1st case\")\n",
    "        is_already_tree = True\n",
    "        return output, sp.sparse.csr_matrix(output), pair\n",
    "    #print(pair)\n",
    "    # Set up\n",
    "    remaining_node = [i for i in range(len(visited_node)) if visited_node[i] == False]\n",
    "    pair_path = []\n",
    "    new_path = []\n",
    "    temp_path = []\n",
    "    is_connected = False\n",
    "    \n",
    "    while len(remaining_node) > 0 or is_connected == False:\n",
    "        if len(temp_path) == 0: # need to generate new node\n",
    "            new_start_node = random.choice(remaining_node)\n",
    "            #print(new_start_node)\n",
    "            temp_path.append(new_start_node)\n",
    "        new_feasible_node = []\n",
    "        for k in range(num_nodes):\n",
    "            if A[new_start_node, k] > 0: # This node pair is connected        \n",
    "                new_feasible_node.append(k)\n",
    "        new_next_node = random.choice(new_feasible_node)\n",
    "        #print(new_next_node)\n",
    "\n",
    "        if new_next_node in path:\n",
    "            if len(temp_path) > 1: # for the case when walking more than 1 node and reach the path later\n",
    "                for i in range(len(temp_path)-1):\n",
    "                    pair_path.append((temp_path[i],temp_path[i+1]))\n",
    "            pair_path.append((new_start_node, new_next_node))\n",
    "            path.extend(temp_path)\n",
    "            #output[new_start_node][new_next_node] = 1\n",
    "            #output[new_next_node][new_start_node] = 1\n",
    "            remaining_node = [node for node in remaining_node if node not in temp_path]\n",
    "            is_connected = True\n",
    "            temp_path.clear()\n",
    "\n",
    "        else:\n",
    "            if new_next_node not in temp_path:\n",
    "                if len(remaining_node) == 1: #this is the last node, and it should connect to node in path\n",
    "                    new_start_node = new_next_node\n",
    "                    new_feasible_node = []\n",
    "                    for k in range(num_nodes):\n",
    "                        if A[new_start_node, k] > 0: # This node pair is connected        \n",
    "                            new_feasible_node.append(k)\n",
    "                    new_next_node = random.choice(new_feasible_node)\n",
    "                    temp_path = temp_path[:temp_path.index(new_next_node)+1]\n",
    "                    path.extend(temp_path)\n",
    "                    pair_path.append((new_start_node, new_next_node))\n",
    "                    remaining_node.extend(loop)\n",
    "                    break\n",
    "                else:\n",
    "                    temp_path.append(new_next_node)\n",
    "                    #remaining_node.remove(new_next_node)\n",
    "                    new_start_node = new_next_node\n",
    "            else: # This is a loop\n",
    "                loop = temp_path[temp_path.index(new_next_node)+1:-1]\n",
    "                temp_path = temp_path[:temp_path.index(new_next_node)+1]\n",
    "                remaining_node.extend(loop)\n",
    "                new_start_node = new_next_node\n",
    "                \n",
    "    output = output_update(pair_path, output)  \n",
    "    #print(\"2nd case\")\n",
    "    return output, sp.sparse.csr_matrix(output), init_path, pair, pair_path, path"
   ]
  },
  {
   "cell_type": "code",
   "execution_count": 21,
   "metadata": {
    "scrolled": true
   },
   "outputs": [],
   "source": [
    "x = sample_spanning_tree(B)"
   ]
  },
  {
   "cell_type": "code",
   "execution_count": 22,
   "metadata": {},
   "outputs": [],
   "source": [
    "y = sample_spanning_tree(B)"
   ]
  },
  {
   "cell_type": "code",
   "execution_count": 23,
   "metadata": {},
   "outputs": [
    {
     "name": "stdout",
     "output_type": "stream",
     "text": [
      "  (0, 3)\t1\n",
      "  (0, 4)\t1\n",
      "  (1, 2)\t1\n",
      "  (2, 1)\t1\n",
      "  (2, 4)\t1\n",
      "  (2, 6)\t1\n",
      "  (3, 0)\t1\n",
      "  (4, 0)\t1\n",
      "  (4, 2)\t1\n",
      "  (4, 5)\t1\n",
      "  (5, 4)\t1\n",
      "  (6, 2)\t1\n",
      "\n",
      "\n",
      "  (0, 1)\t1\n",
      "  (1, 0)\t1\n",
      "  (1, 5)\t1\n",
      "  (2, 4)\t1\n",
      "  (2, 6)\t1\n",
      "  (3, 4)\t1\n",
      "  (4, 2)\t1\n",
      "  (4, 3)\t1\n",
      "  (5, 1)\t1\n",
      "  (5, 6)\t1\n",
      "  (6, 2)\t1\n",
      "  (6, 5)\t1\n"
     ]
    }
   ],
   "source": [
    "#print(x[0])\n",
    "print(x[1]) \n",
    "print(\"\\n\")\n",
    "print(y[1])"
   ]
  },
  {
   "cell_type": "markdown",
   "metadata": {},
   "source": [
    "### Spanning tree validation"
   ]
  },
  {
   "cell_type": "code",
   "execution_count": 24,
   "metadata": {},
   "outputs": [
    {
     "data": {
      "text/plain": [
       "([[0, 0, 1, 1, 1],\n",
       "  [0, 0, 0, 0, 1],\n",
       "  [1, 0, 0, 0, 0],\n",
       "  [1, 0, 0, 0, 0],\n",
       "  [1, 1, 0, 0, 0]],\n",
       " <5x5 sparse matrix of type '<class 'numpy.intc'>'\n",
       " \twith 8 stored elements in Compressed Sparse Row format>,\n",
       " [1, 4],\n",
       " [(1, 4)],\n",
       " [(2, 0), (0, 4), (3, 0)],\n",
       " [1, 4, 2, 0, 3])"
      ]
     },
     "execution_count": 24,
     "metadata": {},
     "output_type": "execute_result"
    }
   ],
   "source": [
    "sample_spanning_tree(A)"
   ]
  },
  {
   "cell_type": "code",
   "execution_count": null,
   "metadata": {},
   "outputs": [],
   "source": [
    "for i in spanning_tree:\n",
    "    print(i)\n",
    "    print('\\n')"
   ]
  },
  {
   "cell_type": "code",
   "execution_count": null,
   "metadata": {},
   "outputs": [],
   "source": [
    "spanning_tree = [sample_spanning_tree(C)[0] for j in range(100)]"
   ]
  },
  {
   "cell_type": "code",
   "execution_count": null,
   "metadata": {},
   "outputs": [],
   "source": [
    "spanning_tree"
   ]
  },
  {
   "cell_type": "code",
   "execution_count": null,
   "metadata": {},
   "outputs": [],
   "source": [
    "nx.from_scipy_sparse_matrix(sample_spanning_tree(C)[1])"
   ]
  },
  {
   "cell_type": "code",
   "execution_count": null,
   "metadata": {},
   "outputs": [],
   "source": [
    "testlist = [1,2,3,4]\n",
    "testmat = [ [[1,2,3],[4,5,6]] , [[1,2,3],[5,4,6]] ]\n",
    "testdict = {}\n",
    "\n",
    "for i in testmat:\n",
    "    for j in range(len(i)):\n",
    "        i[j] = tuple(i[j])\n",
    "    \n",
    "for i in range(len(testmat)):\n",
    "    testmat[i] = tuple(testmat[i]) "
   ]
  },
  {
   "cell_type": "code",
   "execution_count": null,
   "metadata": {},
   "outputs": [],
   "source": [
    "for i in testmat:\n",
    "    testdict[i] = testdict.get(i,0) + 1"
   ]
  },
  {
   "cell_type": "code",
   "execution_count": null,
   "metadata": {},
   "outputs": [],
   "source": [
    "for i in testdict:\n",
    "    print(i)\n",
    "    print(testdict.get(i))"
   ]
  },
  {
   "cell_type": "code",
   "execution_count": null,
   "metadata": {},
   "outputs": [],
   "source": [
    "tree_count = {}\n",
    "\n",
    "for i in spanning_tree:\n",
    "    for j in range(len(i)):\n",
    "        i[j] = tuple(i[j])\n",
    "    \n",
    "for i in range(len(spanning_tree)):\n",
    "    spanning_tree[i] = tuple(spanning_tree[i]) \n",
    "    \n",
    "for i in spanning_tree:\n",
    "    tree_count[i] = tree_count.get(i,0) + 1"
   ]
  },
  {
   "cell_type": "code",
   "execution_count": null,
   "metadata": {},
   "outputs": [],
   "source": [
    "tree_count"
   ]
  },
  {
   "cell_type": "code",
   "execution_count": null,
   "metadata": {},
   "outputs": [],
   "source": [
    "prob_list = []\n",
    "n_total = 0\n",
    "for i in tree_count:\n",
    "    n_total += tree_count.get(i)\n",
    "    \n",
    "for i in tree_count:\n",
    "    prob_list.append(tree_count.get(i)/n_total)\n",
    "\n",
    "prob_list"
   ]
  },
  {
   "cell_type": "code",
   "execution_count": 25,
   "metadata": {},
   "outputs": [],
   "source": [
    "def spanning_tree_probability(graph, ntimes):\n",
    "    spanning_tree = [sample_spanning_tree(graph)[0] for j in range(ntimes)]\n",
    "    \n",
    "    # Firstly, transform the sparse matrix to immutable object (tuple), so it'll be hashable    \n",
    "    for i in spanning_tree:\n",
    "        for j in range(len(i)):\n",
    "            i[j] = tuple(i[j])\n",
    "\n",
    "    for i in range(len(spanning_tree)):\n",
    "        spanning_tree[i] = tuple(spanning_tree[i]) \n",
    "    \n",
    "    # Then, count how many different spanning trees are generated\n",
    "    tree_count = {}\n",
    "    for i in spanning_tree:\n",
    "        tree_count[i] = tree_count.get(i,0) + 1\n",
    "        \n",
    "    # Finally, calculate the probability\n",
    "    prob_list = []\n",
    "    n_total = 0\n",
    "    for i in tree_count:\n",
    "        n_total += tree_count.get(i)\n",
    "\n",
    "    for i in tree_count:\n",
    "        prob_list.append(tree_count.get(i)/n_total)\n",
    "    \n",
    "    possible_tree = (graph.shape[0])**(graph.shape[0]-2)\n",
    "    prob_diff = np.array(prob_list) - np.array(graph.shape[0]*(1/possible_tree) )\n",
    "    return tree_count, prob_list, abs(prob_diff)"
   ]
  },
  {
   "cell_type": "code",
   "execution_count": 26,
   "metadata": {},
   "outputs": [
    {
     "name": "stdout",
     "output_type": "stream",
     "text": [
      "[0.3353, 0.3317, 0.333]\n",
      "[0.06152, 0.06074, 0.0625, 0.06124, 0.0624, 0.0638, 0.06194, 0.06216, 0.06226, 0.06406, 0.06522, 0.06272, 0.0612, 0.06366, 0.06258, 0.062]\n",
      "[0.00794, 0.00792, 0.00758, 0.0084, 0.00706, 0.00728, 0.00794, 0.0073, 0.00826, 0.00698, 0.00798, 0.00826, 0.0077, 0.00846, 0.0086, 0.00784, 0.00798, 0.00774, 0.00834, 0.00814, 0.00852, 0.00774, 0.00874, 0.00712, 0.00808, 0.00744, 0.00822, 0.00772, 0.00816, 0.00796, 0.00846, 0.0081, 0.00854, 0.00794, 0.00802, 0.00782, 0.007, 0.00846, 0.00776, 0.00792, 0.00722, 0.00782, 0.008, 0.00836, 0.00814, 0.00836, 0.00736, 0.00848, 0.00822, 0.00804, 0.00764, 0.00832, 0.00816, 0.00814, 0.00798, 0.00812, 0.0081, 0.0089, 0.0086, 0.0086, 0.00772, 0.0077, 0.00798, 0.00802, 0.00854, 0.00796, 0.008, 0.00772, 0.0083, 0.00776, 0.00744, 0.0078, 0.00854, 0.00818, 0.00828, 0.00804, 0.00852, 0.00818, 0.00764, 0.00728, 0.00784, 0.00764, 0.00816, 0.00782, 0.00772, 0.0079, 0.00818, 0.0087, 0.0084, 0.00834, 0.00856, 0.0074, 0.00834, 0.00772, 0.00776, 0.008, 0.00768, 0.00796, 0.00752, 0.00796, 0.00786, 0.00854, 0.0086, 0.00764, 0.00818, 0.00824, 0.00848, 0.00788, 0.00826, 0.00796, 0.00776, 0.00782, 0.00818, 0.0083, 0.00758, 0.00808, 0.00808, 0.00792, 0.00776, 0.00818, 0.0077, 0.00772, 0.00834, 0.00814, 0.00762]\n"
     ]
    }
   ],
   "source": [
    "# Test for 3,4, and 5 nodes graph\n",
    "\n",
    "print(spanning_tree_probability(C, 10000)[1]) # 3 nodes\n",
    "print(spanning_tree_probability(D, 50000)[1]) # 4 nodes\n",
    "print(spanning_tree_probability(A, 50000)[1]) # 5 nodes"
   ]
  },
  {
   "cell_type": "code",
   "execution_count": null,
   "metadata": {},
   "outputs": [],
   "source": [
    "print(spanning_tree_probability(nx.to_scipy_sparse_matrix(nx.complete_graph(20)), 10000)[1]) # 20 nodes"
   ]
  },
  {
   "cell_type": "markdown",
   "metadata": {},
   "source": [
    "3 nodes graph: $3^{3-2} = 3$ possible spanning trees. Each different tree has probability of 1/3.\n",
    "\n",
    "4 nodes graph: $4^{4-2} = 4^2 = 16$ possible spanning trees. Each different tree has probability of 1/16.\n",
    "\n",
    "5 nodes graph: $5^{5-2} = 5^3 = 125$ possible spanning trees. Each different tree has probability of 1/125.\n",
    "\n",
    "7 nodes graph: $7^{7-2} = 7^5 = 16807$ possible spanning trees. Each different tree has probability of 1/16807."
   ]
  },
  {
   "cell_type": "markdown",
   "metadata": {},
   "source": [
    "### Degrees of vertices"
   ]
  },
  {
   "cell_type": "code",
   "execution_count": null,
   "metadata": {},
   "outputs": [],
   "source": [
    "tree = sample_spanning_tree(nx.to_scipy_sparse_matrix(nx.complete_graph(21)))"
   ]
  },
  {
   "cell_type": "code",
   "execution_count": null,
   "metadata": {
    "scrolled": false
   },
   "outputs": [],
   "source": [
    "tree"
   ]
  },
  {
   "cell_type": "code",
   "execution_count": null,
   "metadata": {},
   "outputs": [],
   "source": [
    "tree[0]"
   ]
  },
  {
   "cell_type": "code",
   "execution_count": null,
   "metadata": {},
   "outputs": [],
   "source": [
    "degrees = []\n",
    "\n",
    "for i in tree[0]:\n",
    "    degrees.append(sum(i))\n",
    "\n",
    "degrees_seq = sorted(degrees)\n",
    "degrees_seq"
   ]
  },
  {
   "cell_type": "code",
   "execution_count": null,
   "metadata": {},
   "outputs": [],
   "source": [
    "deg_counter = collections.Counter(degrees_seq)\n",
    "deg_counter"
   ]
  },
  {
   "cell_type": "code",
   "execution_count": null,
   "metadata": {},
   "outputs": [],
   "source": [
    "pmf_dict = {}\n",
    "\n",
    "for i in deg_counter:\n",
    "    pmf_dict[i] = round(deg_counter.get(i)/len(degrees_seq), 4)\n",
    "\n",
    "pmf = list(pmf_dict.values())\n",
    "cdf = np.cumsum(pmf)"
   ]
  },
  {
   "cell_type": "code",
   "execution_count": null,
   "metadata": {},
   "outputs": [],
   "source": [
    "print(pmf)\n",
    "print(cdf)"
   ]
  },
  {
   "cell_type": "code",
   "execution_count": null,
   "metadata": {},
   "outputs": [],
   "source": [
    "# PMF plot\n",
    "\n",
    "plt.plot(list(set(degrees_seq)), pmf, marker=\"o\")"
   ]
  },
  {
   "cell_type": "code",
   "execution_count": null,
   "metadata": {},
   "outputs": [],
   "source": [
    "# CDF plot\n",
    "\n",
    "plt.plot(list(set(degrees_seq)), cdf, marker=\"o\")"
   ]
  },
  {
   "cell_type": "code",
   "execution_count": null,
   "metadata": {},
   "outputs": [],
   "source": [
    "# Generate a lot of independent spanning tree\n",
    "\n",
    "cdf_mat = []\n",
    "\n",
    "for _ in range(100):\n",
    "    sample_tree = sample_spanning_tree(nx.to_scipy_sparse_matrix(nx.complete_graph(21)))\n",
    "    \n",
    "    # Create a degree vector that collects degree from each node\n",
    "    degrees = []\n",
    "    for i in sample_tree[0]:\n",
    "        degrees.append(sum(i))\n",
    "    degrees_seq = sorted(degrees)\n",
    "    deg_counter = collections.Counter(degrees_seq) # Count the number of times for each degree\n",
    "    pmf_dict = {}\n",
    "\n",
    "    for i in deg_counter:\n",
    "        pmf_dict[i] = round(deg_counter.get(i)/len(degrees_seq), 4)\n",
    "    pmf = list(pmf_dict.values())\n",
    "    cdf = np.cumsum(pmf)\n",
    "    cdf_mat.append(cdf)"
   ]
  },
  {
   "cell_type": "code",
   "execution_count": null,
   "metadata": {},
   "outputs": [],
   "source": [
    "cdf_mat"
   ]
  },
  {
   "cell_type": "code",
   "execution_count": null,
   "metadata": {},
   "outputs": [],
   "source": [
    "cdf_i = []\n",
    "for i in cdf_mat:\n",
    "    cdf_i.append(i[2])"
   ]
  },
  {
   "cell_type": "code",
   "execution_count": null,
   "metadata": {},
   "outputs": [],
   "source": [
    "cdf_mat = np.array(cdf_mat)\n",
    "\n",
    "cdf_mat[0]"
   ]
  },
  {
   "cell_type": "markdown",
   "metadata": {},
   "source": [
    "### Script test 8/7/2022"
   ]
  },
  {
   "cell_type": "code",
   "execution_count": 27,
   "metadata": {},
   "outputs": [],
   "source": [
    "def degree_cdf(g, n):\n",
    "    '''To calculate the degree of all vertices of a tree, take a look at the CDF of the degrees, aggregating over all\n",
    "    randomly-generated spanning trees'''\n",
    "    cdf_mat = []\n",
    "    \n",
    "    # Generate n spanning tree from the original graph, g.\n",
    "    for _ in range(n):\n",
    "        sample_tree = sample_spanning_tree(g)\n",
    "        \n",
    "        # For each tree, compute degrees and sort them.\n",
    "        degrees = []\n",
    "        for i in sample_tree[0]:\n",
    "            degrees.append(sum(i))\n",
    "        degrees_seq = sorted(degrees)\n",
    "        deg_counter = collections.Counter(degrees_seq) # Count the number of times for each degree\n",
    "        \n",
    "        # Look at how PMF and CDF of the degrees looks, collect all degree CDF from individual spanning tree.\n",
    "        pmf_dict = {}\n",
    "\n",
    "        for i in deg_counter:\n",
    "            pmf_dict[i] = round(deg_counter.get(i)/len(degrees_seq), 3)\n",
    "        pmf = list(pmf_dict.values())\n",
    "        cdf = np.cumsum(pmf)\n",
    "        cdf_mat.append(cdf)\n",
    "        \n",
    "    return cdf_mat"
   ]
  },
  {
   "cell_type": "code",
   "execution_count": 40,
   "metadata": {},
   "outputs": [],
   "source": [
    "g = nx.to_scipy_sparse_matrix(nx.complete_graph(21))\n",
    "\n",
    "def avg_deg_cdf(g, ntrees):\n",
    "    res = []\n",
    "    for i in degree_cdf(g, ntrees):\n",
    "        for j in range(len(i)):\n",
    "            res.append((j+1, i[j]))\n",
    "\n",
    "    ## Calculate the average of each CDF with distinct index (key)        \n",
    "    avg_res = {}\n",
    "    for key, val in res:\n",
    "        avg_res.setdefault(key, []).append(val) # If there is a key, do nothing. If not, append new value into blank list\n",
    "\n",
    "    for i in avg_res:\n",
    "        avg_res[i] = round(np.average(avg_res[i]), 4)\n",
    "        # Modify some value\n",
    "        if avg_res[i] > 1.0:\n",
    "            avg_res[i] = 1.0   \n",
    "\n",
    "    return avg_res"
   ]
  },
  {
   "cell_type": "code",
   "execution_count": 41,
   "metadata": {},
   "outputs": [
    {
     "data": {
      "image/png": "[encoded data removed]",
      "text/plain": [
       "<Figure size 432x288 with 1 Axes>"
      ]
     },
     "metadata": {
      "needs_background": "light"
     },
     "output_type": "display_data"
    }
   ],
   "source": [
    "avg_res = avg_deg_cdf(g, 100)\n",
    "\n",
    "fig, ax = plt.subplots()\n",
    "\n",
    "for i in degree_cdf(g,100):\n",
    "    ax.plot(np.arange(len(i))+1, i, marker=\"o\")\n",
    "    for j in range(len(list(avg_res.values()))):\n",
    "        y_mean = [list(avg_res.values())[j]]*len(list(avg_res.values()))\n",
    "        ax.plot(list(avg_res), y_mean, linestyle=\"--\")"
   ]
  },
  {
   "cell_type": "code",
   "execution_count": 42,
   "metadata": {},
   "outputs": [
    {
     "data": {
      "text/plain": [
       "{1: 0.3948, 2: 0.7729, 3: 0.9395, 4: 0.9945, 5: 1.0}"
      ]
     },
     "execution_count": 42,
     "metadata": {},
     "output_type": "execute_result"
    }
   ],
   "source": [
    "avg_res"
   ]
  },
  {
   "cell_type": "code",
   "execution_count": null,
   "metadata": {},
   "outputs": [],
   "source": []
  }
 ],
 "metadata": {
  "kernelspec": {
   "display_name": "Python 3",
   "language": "python",
   "name": "python3"
  },
  "language_info": {
   "codemirror_mode": {
    "name": "ipython",
    "version": 3
   },
   "file_extension": ".py",
   "mimetype": "text/x-python",
   "name": "python",
   "nbconvert_exporter": "python",
   "pygments_lexer": "ipython3",
   "version": "3.7.6"
  }
 },
 "nbformat": 4,
 "nbformat_minor": 5
}
