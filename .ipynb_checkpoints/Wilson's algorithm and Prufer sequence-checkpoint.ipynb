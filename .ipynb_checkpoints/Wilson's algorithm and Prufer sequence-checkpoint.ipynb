{
 "cells": [
  {
   "cell_type": "code",
   "execution_count": 1,
   "id": "1b974af1",
   "metadata": {},
   "outputs": [],
   "source": [
    "import numpy as np\n",
    "import pandas as pd\n",
    "import random\n",
    "from matplotlib import pyplot as plt\n",
    "import scipy as sp\n",
    "import networkx as nx\n",
    "import collections\n",
    "import time\n",
    "import math\n",
    "import cProfile\n",
    "from collections import Counter"
   ]
  },
  {
   "cell_type": "code",
   "execution_count": 2,
   "id": "6264e1e7",
   "metadata": {},
   "outputs": [],
   "source": [
    "def neighbor_nodes(graph, num_nodes):\n",
    "    \n",
    "    neighbor_dict = {key : [] for key in range(num_nodes)}\n",
    "    # if input graph is complete\n",
    "    if np.sum(graph.todense()) == num_nodes*(num_nodes-1):\n",
    "        for key in neighbor_dict:\n",
    "            neighbor_dict[key] = list(range(num_nodes))\n",
    "            neighbor_dict[key].remove(key)\n",
    "    else:\n",
    "        # Checking each row and col that has an edge (element = 1)\n",
    "        for row, col in zip(*graph.nonzero()):\n",
    "            neighbor_dict[row].append(col)\n",
    "        \n",
    "    return neighbor_dict\n",
    "\n",
    "def output_update(path, output_matrix):\n",
    "    pair = [(path[i], path[i + 1]) for i in range(len(path)-1)]\n",
    "    for i in pair:\n",
    "        output_matrix[i[0], i[1]] = 1\n",
    "        output_matrix[i[1], i[0]] = 1\n",
    "    return output_matrix\n",
    "\n",
    "## Fastest\n",
    "\n",
    "def sample_spanning_tree(A):\n",
    "    # Step 0: function setup\n",
    "    num_nodes = A.shape[0]\n",
    "    mat_A = A.todense()\n",
    "    unvisited_node = set(range(num_nodes))\n",
    "    walk_hist = np.empty(0, dtype= np.int32)\n",
    "    is_connected = False\n",
    "    output_init = sp.sparse.lil_matrix((num_nodes, num_nodes), dtype = np.int32)\n",
    "    neighbor_dict = neighbor_nodes(A, num_nodes)\n",
    "    #print(neighbor_dict)\n",
    "    \n",
    "    # Step 1: random the start and terminal node\n",
    "    start_node = random.choice(tuple(unvisited_node))\n",
    "    unvisited_node.remove(start_node)\n",
    "    terminal_node = random.choice(tuple(unvisited_node))\n",
    "    walk_hist = np.append(walk_hist, start_node)\n",
    "    #print((start_node, terminal_node))\n",
    "    #unvisited_node.remove(terminal_node)\n",
    "    current_node = start_node\n",
    "    \n",
    "    # Step 2: perform Loop-erased Random walk and get the main path (T1 = LE(W1))\n",
    "    while terminal_node in unvisited_node: # until first path is complete\n",
    "        feasible_nodes = neighbor_dict[current_node] # randomly pick the neighbor node\n",
    "        next_node = random.choice(feasible_nodes)\n",
    "        current_node = next_node\n",
    "        walk_hist = np.append(walk_hist, current_node) # This is W1\n",
    "        if current_node in unvisited_node:\n",
    "            unvisited_node.remove(current_node)\n",
    "        else: # this creates a loop\n",
    "            # update the walk_hist, insert the looped node back to unvisited_node and reset to where it starts\n",
    "            index = np.where(walk_hist == current_node)[0][0]\n",
    "            unvisited_node = unvisited_node.union(set(walk_hist[index+1:-1]))\n",
    "            walk_hist = walk_hist[:index+1]\n",
    "    visited_node = set(walk_hist)\n",
    "    #print(\"walk_hist = \", walk_hist)\n",
    "    output = output_update(walk_hist, output_init)\n",
    "    # if a spanning tree is created in this step, skip step 3\n",
    "    if len(unvisited_node) == 0:\n",
    "        is_connected = True\n",
    "    #print(\"unvisited_node = \", unvisited_node)\n",
    "    \n",
    "    # Step 3: initiate a new unvisited node and perform LERW until it joins some node of T1\n",
    "    new_walk_hist = np.empty(0, dtype= np.int32)\n",
    "    while len(unvisited_node) != 0 or is_connected == False:      \n",
    "        if len(new_walk_hist) == 0:\n",
    "            new_start_node = random.choice(tuple(unvisited_node))\n",
    "            new_walk_hist = np.append(new_walk_hist, new_start_node)\n",
    "            unvisited_node.remove(new_start_node)\n",
    "            new_current_node = new_start_node\n",
    "        #print(new_current_node)\n",
    "        feasible_nodes = neighbor_dict[new_current_node]\n",
    "        new_next_node = random.choice(feasible_nodes)\n",
    "        #print(\"-\",new_next_node)\n",
    "        new_current_node = new_next_node\n",
    "        new_walk_hist = np.append(new_walk_hist, new_current_node)\n",
    "        if new_current_node in unvisited_node:\n",
    "            if len(unvisited_node) == 1: #last node\n",
    "                continue\n",
    "            else: # normal walk\n",
    "                unvisited_node.remove(new_current_node)\n",
    "        elif new_current_node in visited_node: # it hits some node in T_i\n",
    "            is_connected = True # in the second-round walk, it definitely confirms hitting some node in T1\n",
    "            visited_node = visited_node.union(set(new_walk_hist))\n",
    "            # update the output into sparse matrix\n",
    "            output = output_update(new_walk_hist, output)\n",
    "            new_walk_hist = np.empty(0, dtype=np.int32) # clear all history and restart the process \n",
    "            if len(visited_node) == num_nodes:\n",
    "                break\n",
    "        else: # this creates a loop\n",
    "            # update the walk_hist, insert the looped node back to unvisited_node and reset to where it starts\n",
    "            index = np.where(new_walk_hist == new_current_node)[0][0]\n",
    "            unvisited_node = unvisited_node.union(set(new_walk_hist[index+1:-1]))\n",
    "            new_walk_hist = new_walk_hist[:index+1]           \n",
    "            \n",
    "    return output # sparse matrix of a spanning tree"
   ]
  },
  {
   "cell_type": "code",
   "execution_count": 3,
   "id": "7edb0189",
   "metadata": {},
   "outputs": [],
   "source": [
    "g5 = nx.to_scipy_sparse_matrix(nx.complete_graph(5))\n",
    "g10 = nx.to_scipy_sparse_matrix(nx.complete_graph(10))"
   ]
  },
  {
   "cell_type": "code",
   "execution_count": 4,
   "id": "3b13ed0e",
   "metadata": {},
   "outputs": [
    {
     "data": {
      "text/plain": [
       "<networkx.classes.graph.Graph at 0x7fb0615f72d0>"
      ]
     },
     "execution_count": 4,
     "metadata": {},
     "output_type": "execute_result"
    }
   ],
   "source": [
    "nx.from_numpy_matrix(sample_spanning_tree(g5))"
   ]
  },
  {
   "cell_type": "markdown",
   "id": "342b2f00",
   "metadata": {},
   "source": [
    "## Prüfer sequence\n",
    "(ref: https://en.wikipedia.org/wiki/Pr%C3%BCfer_sequence)\n",
    "\n",
    "### Objective:\n",
    "Can we modify the idea of Prufer sequence to generate tree faster for based on other network topologies?\n",
    "\n",
    "### Goal:\n",
    "Need two functions. One converts a Prufer sequence into a tree, and another one does conversely.\n",
    "\n",
    "###  Algorithm to convert a tree to a Prufer\n",
    "1. Remove vertices from the tree until only two vertices remain.\n",
    "2. Each removal, set the i-th element of a sequence to be the label of its neighbor.\n",
    "\n",
    "### Algorithm to convert a Prufer to a tree\n",
    "1. Let P = [ ] a Prufer sequence with n elements\n",
    "2. Then the tree will have n+2 elements (nodes), numbered from 1 to n+2\n",
    "3. Each node, set its degree to the number of times it appears in the sequence plus 1\n",
    "4. For each number in the sequence P[i], find the first (lowest-numbered) node, j, with degree equal to 1\n",
    "5. Add the edge (j, P[i]) to the tree, and decrement the degrees of j and P[i]\n",
    "6. At the end of the loop, two nodes with degree 1 will remain (use u and v). Then, add the edge (u,v) to the tree"
   ]
  },
  {
   "cell_type": "code",
   "execution_count": 6,
   "id": "3dbdd157",
   "metadata": {},
   "outputs": [
    {
     "data": {
      "text/plain": [
       "'# script test\\n\\nseq = [2,2,3]\\ndeg_count = Counter(seq)\\ntree = nx.empty_graph()\\ntree_dict = {}\\n\\nfor i in range(len(seq)+2):\\n    tree_dict[i] = deg_count[i]\\nu = next(j for j in range(len(seq)+2) if deg_count[j] == 1)\\nindex = u\\n\\n# add the edge to the tree and decrement the degrees of j and P[i]\\nfor k in seq:\\n    tree.add_edge(u, seq[k])\\n    tree_dict[k] -= 1'"
      ]
     },
     "execution_count": 6,
     "metadata": {},
     "output_type": "execute_result"
    }
   ],
   "source": [
    "\"\"\"# script test\n",
    "\n",
    "seq = [2,2,3]\n",
    "deg_count = Counter(seq)\n",
    "tree = nx.empty_graph()\n",
    "tree_dict = {}\n",
    "\n",
    "for i in range(len(seq)+2):\n",
    "    tree_dict[i] = deg_count[i]\n",
    "u = next(j for j in range(len(seq)+2) if deg_count[j] == 1)\n",
    "index = u\n",
    "\n",
    "# add the edge to the tree and decrement the degrees of j and P[i]\n",
    "for k in seq:\n",
    "    tree.add_edge(u, seq[k])\n",
    "    tree_dict[k] -= 1\"\"\""
   ]
  },
  {
   "cell_type": "code",
   "execution_count": 11,
   "id": "cdc25355",
   "metadata": {},
   "outputs": [],
   "source": [
    "# Tree to Prufer sequence\n",
    "\n",
    "def tree_to_prufer(tree_mat):\n",
    "    # Error checking\n",
    "    ## I. The input must be a adjacency matrix\n",
    "    if not(sp.sparse.isspmatrix(tree_mat)):\n",
    "        raise TypeError(\"The tree must be an adjacency (sparse) matrix\")\n",
    "\n",
    "    # convert adjacency matrix to graph form\n",
    "    tree = nx.from_numpy_matrix(tree_mat)\n",
    "    # setup\n",
    "    n = len(tree)\n",
    "    deg_dict = dict(tree.degree())\n",
    "    \n",
    "    # Find parent nodes\n",
    "    def parent_node(u):\n",
    "        return next(i for i in tree[u] if deg_dict[i] > 1)\n",
    "\n",
    "    prufer_seq = []\n",
    "    u = next(j for j in range(n) if deg_dict[j] == 1) # Leaf node label\n",
    "    index = u\n",
    "    print(\"start at node \", u)\n",
    "    for node in range(n-2): # for each node\n",
    "        parent = parent_node(u)\n",
    "        print(\"the parent node is \", parent)\n",
    "        prufer_seq.append(parent+1)\n",
    "        deg_dict[parent] -= 1 # delete that node after adding parent to sequence\n",
    "        # Then setup the next node\n",
    "        if parent < index and deg_dict[parent] == 1: # in case that parent node becomes next leaf node\n",
    "            u = parent\n",
    "            print(\"I. the next leaf node is \", u)\n",
    "        else:\n",
    "            u = next(j for j in range(index+1, n) if deg_dict[j] == 1) # in case that parent node is still parent node\n",
    "            index = u\n",
    "            print(\"II. the next leaf node is \", u)\n",
    "\n",
    "    return prufer_seq"
   ]
  },
  {
   "cell_type": "code",
   "execution_count": 8,
   "id": "c88ea178",
   "metadata": {},
   "outputs": [],
   "source": [
    "# Prufer sequence to Tree function\n",
    "\n",
    "def prufer_to_tree(seq):\n",
    "    # Error checking\n",
    "    ## I. The sequence must be represented as a list.\n",
    "    if not(isinstance(seq, list)):\n",
    "        raise TypeError(\"The Prufer sequence must be a list.\")\n",
    "    ## II. The elements in the list must be a positive integer.\n",
    "    for i in seq:\n",
    "        if not(isinstance(i,int)):\n",
    "            raise TypeError(\"The sequence must be integers.\")\n",
    "        if i < 0:\n",
    "            raise ValueError(\"The sequence must be positive.\")\n",
    "       \n",
    "    n = len(seq)\n",
    "    deg = [0]*(n+2)\n",
    "    zero_mat =np.zeros((n+2,n+2),dtype=np.int32)\n",
    "    tree = sp.sparse.lil_matrix(zero_mat)\n",
    "\n",
    "    for i in range(1, tree.shape[0]+1):\n",
    "        deg[i-1] = 1\n",
    "\n",
    "    for i in seq:\n",
    "        deg[i-1] += 1\n",
    "\n",
    "    # Next, for each number in sequence, find the first node j whose deg = 1\n",
    "    for i in seq:\n",
    "        for j in range(1, tree.shape[0]+1):\n",
    "            if deg[j-1] == 1:\n",
    "                tree[i-1,j-1] = 1\n",
    "                tree[j-1,i-1] = 1\n",
    "                deg[i-1] -= 1\n",
    "                deg[j-1] -= 1\n",
    "                break\n",
    "\n",
    "    # At the end of the loop, two nodes with degree 1 will remain\n",
    "    u = 0\n",
    "    v = u\n",
    "    for i in range(tree.shape[0]):\n",
    "        if deg[i] == 1:\n",
    "            if u == 0:\n",
    "                u = i\n",
    "            else:\n",
    "                v = i\n",
    "                break\n",
    "    # Lastly, add the edge to the tree\n",
    "    tree[u,v] = 1\n",
    "    tree[v,u] = 1\n",
    "    deg[u] -= 1\n",
    "    deg[v] -= 1\n",
    "\n",
    "    return tree"
   ]
  },
  {
   "cell_type": "markdown",
   "id": "c633445a",
   "metadata": {},
   "source": [
    "### Test case"
   ]
  },
  {
   "cell_type": "code",
   "execution_count": 13,
   "id": "da0ad873",
   "metadata": {},
   "outputs": [
    {
     "name": "stdout",
     "output_type": "stream",
     "text": [
      "  (0, 1)\t1\n",
      "  (0, 2)\t1\n",
      "  (0, 4)\t1\n",
      "  (1, 0)\t1\n",
      "  (1, 3)\t1\n",
      "  (2, 0)\t1\n",
      "  (3, 1)\t1\n",
      "  (4, 0)\t1\n",
      "start at node  2\n",
      "the parent node is  0\n",
      "II. the next leaf node is  3\n",
      "the parent node is  1\n",
      "I. the next leaf node is  1\n",
      "the parent node is  0\n",
      "I. the next leaf node is  0\n"
     ]
    },
    {
     "data": {
      "text/plain": [
       "[1, 2, 1]"
      ]
     },
     "execution_count": 13,
     "metadata": {},
     "output_type": "execute_result"
    }
   ],
   "source": [
    "# Tree to Prufer\n",
    "\n",
    "samp_tree = sample_spanning_tree(g5)\n",
    "print(samp_tree)\n",
    "tree_to_prufer(samp_tree)"
   ]
  },
  {
   "cell_type": "code",
   "execution_count": 14,
   "id": "11cc6fab",
   "metadata": {},
   "outputs": [
    {
     "name": "stdout",
     "output_type": "stream",
     "text": [
      "[[0 1 1 0 1]\n",
      " [1 0 0 1 0]\n",
      " [1 0 0 0 0]\n",
      " [0 1 0 0 0]\n",
      " [1 0 0 0 0]]\n"
     ]
    },
    {
     "data": {
      "image/png": "[encoded data removed]",
      "text/plain": [
       "<Figure size 432x288 with 1 Axes>"
      ]
     },
     "metadata": {},
     "output_type": "display_data"
    }
   ],
   "source": [
    "# Prufer to Tree\n",
    "\n",
    "prufer_to_tree([1,2,1])\n",
    "print(prufer_to_tree([1,2,1]).toarray())\n",
    "nx.draw(nx.from_numpy_matrix(prufer_to_tree([1,2,1])), with_labels = True)"
   ]
  },
  {
   "cell_type": "code",
   "execution_count": 163,
   "id": "0ac66a9f",
   "metadata": {},
   "outputs": [],
   "source": []
  }
 ],
 "metadata": {
  "kernelspec": {
   "display_name": "Python 3 (ipykernel)",
   "language": "python",
   "name": "python3"
  },
  "language_info": {
   "codemirror_mode": {
    "name": "ipython",
    "version": 3
   },
   "file_extension": ".py",
   "mimetype": "text/x-python",
   "name": "python",
   "nbconvert_exporter": "python",
   "pygments_lexer": "ipython3",
   "version": "3.7.11"
  }
 },
 "nbformat": 4,
 "nbformat_minor": 5
}
