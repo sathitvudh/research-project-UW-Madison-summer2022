{
 "cells": [
  {
   "cell_type": "markdown",
   "metadata": {},
   "source": [
    "## Wilson's Algorithm for generating Uniform Spanning Tree\n",
    "\n",
    "(Adapted the idea from Grimmett's Probability on Graphs)  \n",
    "Last update: June 10, 2022"
   ]
  },
  {
   "cell_type": "markdown",
   "metadata": {},
   "source": [
    "#### Uniform spanning tree:   \n",
    "\n",
    "A spanning tree of a finite connected graph G is a connected subgraph of G containing every vertex and no cycles.  \n",
    "(Ref: https://mathweb.ucsd.edu/~jschwein/LERW.pdf)"
   ]
  },
  {
   "cell_type": "markdown",
   "metadata": {},
   "source": [
    "### Steps and desciptions"
   ]
  },
  {
   "cell_type": "markdown",
   "metadata": {},
   "source": [
    "The first step is to import the necessary libraries."
   ]
  },
  {
   "cell_type": "code",
   "execution_count": 1,
   "metadata": {},
   "outputs": [],
   "source": [
    "import numpy as np\n",
    "import random\n",
    "import pandas as pd\n",
    "from matplotlib import pyplot as plt\n",
    "import scipy as sp\n",
    "import networkx as nx\n",
    "import collections"
   ]
  },
  {
   "cell_type": "markdown",
   "metadata": {},
   "source": [
    "Initiate the graph represented in sparse matrix form"
   ]
  },
  {
   "cell_type": "code",
   "execution_count": 2,
   "metadata": {},
   "outputs": [],
   "source": [
    "G = nx.MultiDiGraph()\n",
    "G.add_edge(0, 1)\n",
    "G.add_edge(0, 3)\n",
    "G.add_edge(0, 4)\n",
    "G.add_edge(1, 0)\n",
    "G.add_edge(3, 0)\n",
    "G.add_edge(4, 0)\n",
    "G.add_edge(1, 4)\n",
    "G.add_edge(1, 5)\n",
    "G.add_edge(1, 2)\n",
    "G.add_edge(4, 1)\n",
    "G.add_edge(5, 1)\n",
    "G.add_edge(2, 1)\n",
    "G.add_edge(2, 4)\n",
    "G.add_edge(2, 5)\n",
    "G.add_edge(2, 6)\n",
    "G.add_edge(4, 2)\n",
    "G.add_edge(5, 2)\n",
    "G.add_edge(6, 2)\n",
    "G.add_edge(3, 4)\n",
    "G.add_edge(4, 3)\n",
    "G.add_edge(4, 5)\n",
    "G.add_edge(5, 4)\n",
    "G.add_edge(5, 6)\n",
    "G.add_edge(6, 5)\n",
    "\n",
    "G2 = nx.MultiDiGraph()\n",
    "G2.add_edge(0,1)\n",
    "G2.add_edge(1,0)\n",
    "G2.add_edge(0,2)\n",
    "G2.add_edge(2,0)\n",
    "G2.add_edge(1,2)\n",
    "G2.add_edge(2,1)\n",
    "\n",
    "G3 = nx.MultiDiGraph()\n",
    "G3.add_edge(0,1)\n",
    "G3.add_edge(1,0)\n",
    "G3.add_edge(0,2)\n",
    "G3.add_edge(2,0)\n",
    "G3.add_edge(0,3)\n",
    "G3.add_edge(3,0)\n",
    "G3.add_edge(1,2)\n",
    "G3.add_edge(2,1)\n",
    "G3.add_edge(1,3)\n",
    "G3.add_edge(3,1)\n",
    "G3.add_edge(2,3)\n",
    "G3.add_edge(3,2)\n",
    "\n",
    "G4 = nx.MultiDiGraph()\n",
    "G4.add_edge(0,1)\n",
    "G4.add_edge(1,0)\n",
    "G4.add_edge(0,2)\n",
    "G4.add_edge(2,0)\n",
    "G4.add_edge(0,3)\n",
    "G4.add_edge(3,0)\n",
    "G4.add_edge(0,4)\n",
    "G4.add_edge(4,0)\n",
    "G4.add_edge(1,2)\n",
    "G4.add_edge(2,1)\n",
    "G4.add_edge(1,3)\n",
    "G4.add_edge(3,1)\n",
    "G4.add_edge(1,4)\n",
    "G4.add_edge(4,1)\n",
    "G4.add_edge(2,3)\n",
    "G4.add_edge(3,2)\n",
    "G4.add_edge(2,4)\n",
    "G4.add_edge(4,2)\n",
    "G4.add_edge(3,4)\n",
    "G4.add_edge(4,3)\n",
    "\n",
    "A = nx.to_scipy_sparse_matrix(G2, nodelist=[0, 1, 2]) # 3 nodes\n",
    "B = nx.to_scipy_sparse_matrix(G3, nodelist=[0, 1, 2, 3]) # 4 nodes\n",
    "C = nx.to_scipy_sparse_matrix(G4, nodelist=[0, 1, 2, 3, 4]) # 5 nodes\n",
    "D = nx.to_scipy_sparse_matrix(G, nodelist=[0, 1, 2, 3, 4, 5, 6]) # 7 nodes"
   ]
  },
  {
   "cell_type": "markdown",
   "metadata": {},
   "source": [
    "`output_update` is a function which helps generate the output of the main function in a form of sparse matrix."
   ]
  },
  {
   "cell_type": "code",
   "execution_count": 3,
   "metadata": {},
   "outputs": [],
   "source": [
    "def output_update(pair, output):\n",
    "    # Using pairs of nodes to generate output\n",
    "    for i in pair:\n",
    "        output[i[0]][i[1]] = 1\n",
    "        output[i[1]][i[0]] = 1\n",
    "    return output"
   ]
  },
  {
   "cell_type": "markdown",
   "metadata": {},
   "source": [
    "Create the function called `sample_spanning_tree` that apply Wilson's algorithm to generate sample spanning tree from a connected graph (in sparse matrix form). The algorithm consists of 3 main steps.\n",
    "\n",
    "1) Initiate the two random nodes from the input graph, and set up some necessary items to check conditions.     \n",
    "2) Perform Loop-erased random walk (LERW) from the two randomly chosen nodes, obtain the initial path.\n",
    "    - Based on the initial node, randomly choose the next node to walk to, and progressively update the path history\n",
    "    - Let the last node be a new initial node and repeat the previous step until we reach the terminal node we randomly \n",
    "    chosen earlier\n",
    "    - If the loop occurs during the walk, reset the path to where it starts the loop and walk again\n",
    "    - Update the variables of components before performing the next step, and also return the output immediately if this is\n",
    "    already a tree\n",
    "3)  Continue performing LERW from unvisited nodes until it joins the initial path obtained from step 2) and all nodes are visited\n",
    "    - Set up another necessary components for this step (remaining_node, pair_path, new_path, temp_path)\n",
    "    - Generate new start node that is not in the initial path and perform LERW until it joins the initial path\n",
    "        - If the next random node joins the initial path, update the path and set is_connected = True to identify that \n",
    "          there is at least one new path joins the initial path\n",
    "        - Otherwise, check if the next random node creates the loop. If loop exists, reset the path and walk again. If not, \n",
    "          keep updating the path and keep walking\n",
    "        - It has an exception when there is only one node left. This algorithm can be done by randomly\n",
    "          selecting the next feasible node, so that it will definitely join the path\n",
    "4) Return the outputs"
   ]
  },
  {
   "cell_type": "code",
   "execution_count": 4,
   "metadata": {},
   "outputs": [],
   "source": [
    "def sample_spanning_tree(A):\n",
    "    # Step 1: Function setup\n",
    "    num_nodes = A.shape[0]\n",
    "    mat_A = A.todense()\n",
    "    universe_node_list = list(range(num_nodes))\n",
    "    unused_node_list = list(range(num_nodes))\n",
    "    visited_node = [False for node in range(num_nodes)]\n",
    "    output_init = [[0 for col in range(num_nodes)] for row in range(num_nodes)]\n",
    "    start_node = random.choice(unused_node_list)\n",
    "    #print(start_node)\n",
    "    unused_node_list.remove(start_node)\n",
    "    terminal_node = random.choice(unused_node_list)\n",
    "    unused_node_list.remove(terminal_node)\n",
    "    path = []\n",
    "    path.append(start_node)\n",
    "    visited_node[start_node] = True\n",
    "    is_already_tree = False\n",
    "    \n",
    "    # Step 2: Perform LERW and obtain the initial path\n",
    "    while visited_node[terminal_node] == False:\n",
    "        feasible_node = []\n",
    "        for j in range(num_nodes):\n",
    "            if mat_A[start_node, j] > 0: # This node pair is connected        \n",
    "                feasible_node.append(j)\n",
    "        next_node = random.choice(feasible_node)\n",
    "\n",
    "        # Update a new initial node and add the edge to the graph\n",
    "        visited_node[next_node] = True\n",
    "        path.append(next_node)  \n",
    "        start_node = next_node\n",
    "\n",
    "        # If there's a loop, clear the loop (reset the path + work as if that path doesn't exist)\n",
    "        if next_node in path:\n",
    "            #output[start_node][next_node] = 0\n",
    "            #output[next_node][start_node] = 0\n",
    "            path = path[:path.index(next_node)+1]\n",
    "            for i in path[path.index(next_node)+1:-1]: # Update selected node in the loop back to False\n",
    "                visited_node[i] = False\n",
    "                \n",
    "    init_path = list.copy(path)\n",
    "    # Update visited_node status after obtaining initial path           \n",
    "    for i in universe_node_list:\n",
    "        if i in init_path:\n",
    "            visited_node[i] = True\n",
    "        else:\n",
    "            visited_node[i] = False\n",
    "\n",
    "    # Update the output graph based on path result\n",
    "    pair = []\n",
    "    for i in range(len(init_path)-1):\n",
    "        pair.append((init_path[i],init_path[i+1]))\n",
    "\n",
    "    output = output_update(pair, output_init)\n",
    "    \n",
    "    # Step 3: Continue picking a random remaining node and walk to the initial path\n",
    "    # until all nodes are visited.\n",
    "    if set(path) == set(universe_node_list): # completely visited\n",
    "        #print(\"1st case\")\n",
    "        is_already_tree = True\n",
    "        return output, sp.sparse.csr_matrix(output), pair\n",
    "    #print(pair)\n",
    "    # Set up\n",
    "    remaining_node = [i for i in range(len(visited_node)) if visited_node[i] == False]\n",
    "    pair_path = []\n",
    "    new_path = []\n",
    "    temp_path = []\n",
    "    is_connected = False\n",
    "    \n",
    "    while len(remaining_node) > 0 or is_connected == False:\n",
    "        if len(temp_path) == 0: # need to generate new node\n",
    "            new_start_node = random.choice(remaining_node)\n",
    "            #print(new_start_node)\n",
    "            temp_path.append(new_start_node)\n",
    "        new_feasible_node = []\n",
    "        for k in range(num_nodes):\n",
    "            if A[new_start_node, k] > 0: # This node pair is connected        \n",
    "                new_feasible_node.append(k)\n",
    "        new_next_node = random.choice(new_feasible_node)\n",
    "        #print(new_next_node)\n",
    "\n",
    "        if new_next_node in path:\n",
    "            if len(temp_path) > 1: # for the case when walking more than 1 node and reach the path later\n",
    "                for i in range(len(temp_path)-1):\n",
    "                    pair_path.append((temp_path[i],temp_path[i+1]))\n",
    "            pair_path.append((new_start_node, new_next_node))\n",
    "            path.extend(temp_path)\n",
    "            #output[new_start_node][new_next_node] = 1\n",
    "            #output[new_next_node][new_start_node] = 1\n",
    "            remaining_node = [node for node in remaining_node if node not in temp_path]\n",
    "            is_connected = True\n",
    "            temp_path.clear()\n",
    "\n",
    "        else:\n",
    "            if new_next_node not in temp_path:\n",
    "                if len(remaining_node) == 1: #this is the last node, and it should connect to node in path\n",
    "                    new_start_node = new_next_node\n",
    "                    new_feasible_node = []\n",
    "                    for k in range(num_nodes):\n",
    "                        if A[new_start_node, k] > 0: # This node pair is connected        \n",
    "                            new_feasible_node.append(k)\n",
    "                    new_next_node = random.choice(new_feasible_node)\n",
    "                    temp_path = temp_path[:temp_path.index(new_next_node)+1]\n",
    "                    path.extend(temp_path)\n",
    "                    pair_path.append((new_start_node, new_next_node))\n",
    "                    remaining_node.extend(loop)\n",
    "                    break\n",
    "                else:\n",
    "                    temp_path.append(new_next_node)\n",
    "                    #remaining_node.remove(new_next_node)\n",
    "                    new_start_node = new_next_node\n",
    "            else: # This is a loop\n",
    "                loop = temp_path[temp_path.index(new_next_node)+1:-1]\n",
    "                temp_path = temp_path[:temp_path.index(new_next_node)+1]\n",
    "                remaining_node.extend(loop)\n",
    "                new_start_node = new_next_node\n",
    "                \n",
    "    output = output_update(pair_path, output)  \n",
    "    #print(\"2nd case\")\n",
    "    return output, sp.sparse.csr_matrix(output), init_path, pair, path, pair_path"
   ]
  },
  {
   "cell_type": "code",
   "execution_count": 5,
   "metadata": {},
   "outputs": [],
   "source": [
    "# Sample output\n",
    "\n",
    "x = sample_spanning_tree(A) # Spanning tree from 3 nodes graph\n",
    "y = sample_spanning_tree(B) # Spanning tree from 4 nodes graph"
   ]
  },
  {
   "cell_type": "code",
   "execution_count": 6,
   "metadata": {},
   "outputs": [
    {
     "data": {
      "text/plain": [
       "([[0, 1, 1, 1], [1, 0, 0, 0], [1, 0, 0, 0], [1, 0, 0, 0]],\n",
       " <4x4 sparse matrix of type '<class 'numpy.intc'>'\n",
       " \twith 6 stored elements in Compressed Sparse Row format>,\n",
       " [2, 0],\n",
       " [(2, 0)],\n",
       " [2, 0, 1, 3],\n",
       " [(1, 0), (3, 0)])"
      ]
     },
     "execution_count": 6,
     "metadata": {},
     "output_type": "execute_result"
    }
   ],
   "source": [
    "y"
   ]
  },
  {
   "cell_type": "markdown",
   "metadata": {},
   "source": [
    "### Outputs (in order)\n",
    "\n",
    "- Dense matrix representing the graph of spanning tree\n",
    "- Sparse matrix representing the graph of spanning tree\n",
    "- The initial path from the random walk between two initial nodes\n",
    "- The initial path in a form of paired node\n",
    "- The path that further generated to join the initial path \n",
    "- The path that further generated to join the initial path in a form of paired node"
   ]
  },
  {
   "cell_type": "markdown",
   "metadata": {},
   "source": [
    "### Spanning tree validation\n",
    "\n",
    "This section aims to validate the function `sample_spanning_tree` that it works accurately. We create the function `spanning_tree_probability` that requires two arguments, a graph and number of times spanning tree generation. The procedures are as follows:\n",
    "\n",
    "1) Transform the sparse matrix to tuple and count how many different spanning trees are generated  \n",
    "2) Calculate the probability of each spanning tree and check the validity as, for example,\n",
    "\n",
    "3 nodes graph: $3^{3-2} = 3$ possible spanning trees. Each different tree has probability of 1/3.  \n",
    "4 nodes graph: $4^{4-2} = 4^2 = 16$ possible spanning trees. Each different tree has probability of 1/16.  \n",
    "5 nodes graph: $5^{5-2} = 5^3 = 125$ possible spanning trees. Each different tree has probability of 1/125.  \n",
    "7 nodes graph: $7^{7-2} = 7^5 = 16807$ possible spanning trees. Each different tree has probability of 1/16807.  \n",
    "\n",
    "3) Return the output\n",
    "    - number of counts for each types of spanning tree\n",
    "    - probability list identified how likely they are generated\n",
    "    - comparison between simulated probability and theoretical probability"
   ]
  },
  {
   "cell_type": "code",
   "execution_count": 7,
   "metadata": {},
   "outputs": [],
   "source": [
    "def spanning_tree_probability(graph, ntimes):\n",
    "    spanning_tree = [sample_spanning_tree(graph)[0] for j in range(ntimes)]\n",
    "    \n",
    "    # Firstly, transform the sparse matrix to immutable object (tuple), so it'll be hashable    \n",
    "    for i in spanning_tree:\n",
    "        for j in range(len(i)):\n",
    "            i[j] = tuple(i[j])\n",
    "\n",
    "    for i in range(len(spanning_tree)):\n",
    "        spanning_tree[i] = tuple(spanning_tree[i]) \n",
    "    \n",
    "    # Then, count how many different spanning trees are generated\n",
    "    tree_count = {}\n",
    "    for i in spanning_tree:\n",
    "        tree_count[i] = tree_count.get(i,0) + 1\n",
    "        \n",
    "    # Finally, calculate the probability\n",
    "    prob_list = []\n",
    "    n_total = 0\n",
    "    for i in tree_count:\n",
    "        n_total += tree_count.get(i)\n",
    "\n",
    "    for i in tree_count:\n",
    "        prob_list.append(tree_count.get(i)/n_total)\n",
    "    \n",
    "    possible_tree = (graph.shape[0])**(graph.shape[0]-2)\n",
    "    prob_diff = np.array(prob_list) - np.array(graph.shape[0]*(1/possible_tree) )\n",
    "    return tree_count, prob_list, abs(prob_diff)"
   ]
  },
  {
   "cell_type": "code",
   "execution_count": 8,
   "metadata": {},
   "outputs": [
    {
     "name": "stdout",
     "output_type": "stream",
     "text": [
      "[0.333, 0.3302, 0.3368]\n",
      "[0.0593, 0.0613, 0.06205, 0.06165, 0.06115, 0.0645, 0.06575, 0.0638, 0.0616, 0.06005, 0.06245, 0.06395, 0.06355, 0.06445, 0.0662, 0.05825]\n",
      "[0.0079, 0.007533333333333334, 0.0078, 0.0077, 0.0081, 0.007566666666666667, 0.008566666666666667, 0.007633333333333333, 0.0078, 0.0075, 0.0081, 0.007866666666666666, 0.0083, 0.0084, 0.008166666666666666, 0.0078, 0.008366666666666666, 0.008766666666666667, 0.008066666666666666, 0.008666666666666666, 0.008666666666666666, 0.0071, 0.008, 0.008233333333333334, 0.0079, 0.009233333333333333, 0.007666666666666666, 0.007833333333333333, 0.007966666666666667, 0.008333333333333333, 0.008233333333333334, 0.0079, 0.007933333333333334, 0.007866666666666666, 0.008466666666666667, 0.008466666666666667, 0.007166666666666667, 0.0087, 0.008, 0.0077666666666666665, 0.0068, 0.008033333333333333, 0.0078, 0.008966666666666666, 0.0077666666666666665, 0.008033333333333333, 0.007533333333333334, 0.007833333333333333, 0.0074, 0.008233333333333334, 0.0079, 0.007966666666666667, 0.0075, 0.008633333333333333, 0.008133333333333333, 0.0079, 0.008066666666666666, 0.007466666666666667, 0.0078, 0.008566666666666667, 0.0077666666666666665, 0.0079, 0.007533333333333334, 0.007733333333333333, 0.0077, 0.008566666666666667, 0.007966666666666667, 0.007733333333333333, 0.0075, 0.007933333333333334, 0.008066666666666666, 0.0076, 0.007833333333333333, 0.007533333333333334, 0.008766666666666667, 0.007733333333333333, 0.0073, 0.008033333333333333, 0.008433333333333333, 0.006866666666666667, 0.0086, 0.007733333333333333, 0.0077, 0.008566666666666667, 0.0074, 0.008733333333333333, 0.0085, 0.0081, 0.008033333333333333, 0.0082, 0.0083, 0.007366666666666666, 0.0078, 0.007833333333333333, 0.0078, 0.0083, 0.0077666666666666665, 0.008033333333333333, 0.008833333333333334, 0.007666666666666666, 0.008333333333333333, 0.0077666666666666665, 0.009366666666666667, 0.009233333333333333, 0.007633333333333333, 0.0079, 0.0069, 0.007833333333333333, 0.0083, 0.007466666666666667, 0.008833333333333334, 0.007666666666666666, 0.0082, 0.0082, 0.008466666666666667, 0.008066666666666666, 0.008133333333333333, 0.0082, 0.0083, 0.007866666666666666, 0.0075, 0.0079, 0.0077, 0.008033333333333333, 0.008066666666666666]\n"
     ]
    }
   ],
   "source": [
    "# Sample output\n",
    "\n",
    "print(spanning_tree_probability(A, 10000)[1]) # generate 10000 spanning trees from 3-node graph\n",
    "print(spanning_tree_probability(B, 20000)[1]) # generate 20000 spanning trees from 4-node graph\n",
    "print(spanning_tree_probability(C, 30000)[1]) # generate 30000 spanning trees from 5-node graph"
   ]
  },
  {
   "cell_type": "markdown",
   "metadata": {},
   "source": [
    "### Degree computation and CDF plots"
   ]
  },
  {
   "cell_type": "markdown",
   "metadata": {},
   "source": [
    "Next step is to compute the degrees of all vertices of a tree, and to consider CDF of the degrees."
   ]
  },
  {
   "cell_type": "code",
   "execution_count": 9,
   "metadata": {},
   "outputs": [],
   "source": [
    "def degree_cdf(g, n):\n",
    "    '''To calculate the degree of all vertices of a tree, take a look at the CDF of the degrees, aggregating over all\n",
    "    randomly-generated spanning trees'''\n",
    "    cdf_mat = []\n",
    "    \n",
    "    # Generate n spanning tree from the original graph, g.\n",
    "    for _ in range(n):\n",
    "        sample_tree = sample_spanning_tree(g)\n",
    "        \n",
    "        # For each tree, compute degrees and sort them.\n",
    "        degrees = []\n",
    "        for i in sample_tree[0]:\n",
    "            degrees.append(sum(i))\n",
    "        degrees_seq = sorted(degrees)\n",
    "        deg_counter = collections.Counter(degrees_seq) # Count the number of times for each degree\n",
    "        \n",
    "        # Look at how PMF and CDF of the degrees looks, collect all degree CDF from individual spanning tree.\n",
    "        pmf_dict = {}\n",
    "\n",
    "        for i in deg_counter:\n",
    "            pmf_dict[i] = round(deg_counter.get(i)/len(degrees_seq), 3)\n",
    "        pmf = list(pmf_dict.values())\n",
    "        cdf = np.cumsum(pmf)\n",
    "        cdf_mat.append(cdf)\n",
    "        \n",
    "    return cdf_mat"
   ]
  },
  {
   "cell_type": "markdown",
   "metadata": {},
   "source": [
    "### Sample output"
   ]
  },
  {
   "cell_type": "code",
   "execution_count": 10,
   "metadata": {
    "scrolled": true
   },
   "outputs": [
    {
     "data": {
      "text/plain": [
       "[array([0.476, 0.762, 0.905, 0.953, 1.001]),\n",
       " array([0.333, 0.809, 0.952, 1.   ]),\n",
       " array([0.429, 0.715, 0.953, 1.001]),\n",
       " array([0.381, 0.857, 0.952, 1.   ]),\n",
       " array([0.333, 0.809, 0.952, 1.   ]),\n",
       " array([0.476, 0.762, 0.952, 1.   ]),\n",
       " array([0.429, 0.715, 0.953, 1.001]),\n",
       " array([0.429, 0.715, 0.953, 1.001]),\n",
       " array([0.429, 0.81 , 0.905, 0.953, 1.001]),\n",
       " array([0.476, 0.762, 0.952, 1.   ]),\n",
       " array([0.381, 0.762, 0.952, 1.   ]),\n",
       " array([0.333, 0.809, 0.952, 1.   ]),\n",
       " array([0.429, 0.762, 0.905, 1.   ]),\n",
       " array([0.524, 0.762, 0.905, 1.   ]),\n",
       " array([0.238, 0.857, 1.   ]),\n",
       " array([0.429, 0.715, 0.953, 1.001]),\n",
       " array([0.429, 0.762, 0.952, 1.   ]),\n",
       " array([0.381, 0.762, 0.952, 1.   ]),\n",
       " array([0.381, 0.81 , 0.953, 1.001]),\n",
       " array([0.429, 0.81 , 0.905, 0.953, 1.001]),\n",
       " array([0.381, 0.81 , 0.953, 1.001]),\n",
       " array([0.381, 0.762, 0.952, 1.   ]),\n",
       " array([0.381, 0.762, 0.952, 1.   ]),\n",
       " array([0.524, 0.762, 0.905, 1.   ]),\n",
       " array([0.429, 0.762, 0.905, 1.   ]),\n",
       " array([0.333, 0.762, 1.   ]),\n",
       " array([0.333, 0.809, 0.952, 1.   ]),\n",
       " array([0.333, 0.857, 0.952, 1.   ]),\n",
       " array([0.333, 0.809, 0.952, 1.   ]),\n",
       " array([0.381, 0.81 , 0.953, 1.001]),\n",
       " array([0.333, 0.857, 0.952, 1.   ]),\n",
       " array([0.381, 0.762, 0.952, 1.   ]),\n",
       " array([0.429, 0.762, 0.905, 1.   ]),\n",
       " array([0.429, 0.81 , 0.858, 1.001]),\n",
       " array([0.286, 0.81 , 1.   ]),\n",
       " array([0.524, 0.667, 0.905, 1.   ]),\n",
       " array([0.381, 0.81 , 0.905, 1.   ]),\n",
       " array([0.429, 0.715, 0.953, 1.001]),\n",
       " array([0.333, 0.762, 1.   ]),\n",
       " array([0.381, 0.81 , 0.905, 1.   ]),\n",
       " array([0.333, 0.809, 0.952, 1.   ]),\n",
       " array([0.476, 0.809, 0.904, 0.952, 1.   ]),\n",
       " array([0.381, 0.762, 0.952, 1.   ]),\n",
       " array([0.333, 0.762, 1.   ]),\n",
       " array([0.333, 0.762, 1.   ]),\n",
       " array([0.429, 0.762, 0.905, 1.   ]),\n",
       " array([0.381, 0.762, 0.952, 1.   ]),\n",
       " array([0.333, 0.809, 0.952, 1.   ]),\n",
       " array([0.381, 0.81 , 0.905, 1.   ]),\n",
       " array([0.429, 0.715, 0.953, 1.001]),\n",
       " array([0.333, 0.857, 0.905, 1.   ]),\n",
       " array([0.476, 0.714, 0.904, 0.999]),\n",
       " array([0.286, 0.81 , 1.   ]),\n",
       " array([0.429, 0.81 , 0.905, 0.953, 1.001]),\n",
       " array([0.476, 0.762, 0.905, 0.953, 1.001]),\n",
       " array([0.476, 0.714, 0.904, 0.999]),\n",
       " array([0.476, 0.762, 0.857, 1.   ]),\n",
       " array([0.381, 0.81 , 0.905, 1.   ]),\n",
       " array([0.286, 0.81 , 1.   ]),\n",
       " array([0.476, 0.714, 0.904, 0.999]),\n",
       " array([0.476, 0.714, 0.904, 0.999]),\n",
       " array([0.429, 0.715, 0.953, 1.001]),\n",
       " array([0.429, 0.762, 0.905, 1.   ]),\n",
       " array([0.333, 0.809, 0.952, 1.   ]),\n",
       " array([0.381, 0.714, 1.   ]),\n",
       " array([0.381, 0.714, 1.   ]),\n",
       " array([0.381, 0.762, 0.952, 1.   ]),\n",
       " array([0.333, 0.809, 0.952, 1.   ]),\n",
       " array([0.429, 0.715, 0.953, 1.001]),\n",
       " array([0.476, 0.666, 0.952, 1.   ]),\n",
       " array([0.381, 0.81 , 0.953, 1.001]),\n",
       " array([0.429, 0.715, 0.953, 1.001]),\n",
       " array([0.429, 0.762, 0.905, 1.   ]),\n",
       " array([0.429, 0.762, 0.952, 1.   ]),\n",
       " array([0.381, 0.714, 1.   ]),\n",
       " array([0.476, 0.762, 0.952, 1.   ]),\n",
       " array([0.333, 0.809, 0.952, 1.   ]),\n",
       " array([0.429, 0.715, 0.953, 1.001]),\n",
       " array([0.381, 0.81 , 0.953, 1.001]),\n",
       " array([0.429, 0.715, 0.953, 1.001]),\n",
       " array([0.333, 0.809, 0.952, 1.   ]),\n",
       " array([0.286, 0.857, 0.952, 1.   ]),\n",
       " array([0.476, 0.714, 0.904, 0.999]),\n",
       " array([0.381, 0.81 , 0.953, 1.001]),\n",
       " array([0.476, 0.762, 0.857, 1.   ]),\n",
       " array([0.333, 0.762, 1.   ]),\n",
       " array([0.476, 0.809, 0.857, 0.952, 1.   ]),\n",
       " array([0.381, 0.762, 0.952, 1.   ]),\n",
       " array([0.476, 0.666, 0.952, 1.   ]),\n",
       " array([0.286, 0.857, 0.952, 1.   ]),\n",
       " array([0.429, 0.81 , 0.905, 0.953, 1.001]),\n",
       " array([0.333, 0.809, 0.952, 1.   ]),\n",
       " array([0.333, 0.857, 0.905, 1.   ]),\n",
       " array([0.429, 0.667, 1.   ]),\n",
       " array([0.429, 0.715, 0.953, 1.001]),\n",
       " array([0.333, 0.762, 1.   ]),\n",
       " array([0.381, 0.762, 0.952, 1.   ]),\n",
       " array([0.381, 0.762, 0.952, 1.   ]),\n",
       " array([0.333, 0.762, 1.   ]),\n",
       " array([0.381, 0.81 , 0.905, 1.   ])]"
      ]
     },
     "execution_count": 10,
     "metadata": {},
     "output_type": "execute_result"
    }
   ],
   "source": [
    "# First, we originate complete graph g\n",
    "g = nx.to_scipy_sparse_matrix(nx.complete_graph(21))\n",
    "\n",
    "# Then, we generate a lot of spanning trees and compute degrees\n",
    "degree_cdf(g,100)"
   ]
  },
  {
   "cell_type": "code",
   "execution_count": 11,
   "metadata": {},
   "outputs": [],
   "source": [
    "# Next, we find the average of the CDF of each degree\n",
    "## Collect all CDF with indices\n",
    "res = []\n",
    "for i in degree_cdf(g,100):\n",
    "    for j in range(len(i)):\n",
    "        res.append((j+1, i[j]))\n",
    "\n",
    "## Calculate the average of each CDF with distinct index (key)        \n",
    "avg_res = {}\n",
    "for key, val in res:\n",
    "    avg_res.setdefault(key, []).append(val) # If there is a key, do nothing. If not, append new value into blank list\n",
    "    \n",
    "for i in avg_res:\n",
    "    avg_res[i] = np.average(avg_res[i])\n",
    "    # Modify some value\n",
    "    if avg_res[i] > 1:\n",
    "        avg_res[i] = 1    "
   ]
  },
  {
   "cell_type": "markdown",
   "metadata": {},
   "source": [
    "### Output plots with average line plots"
   ]
  },
  {
   "cell_type": "code",
   "execution_count": 12,
   "metadata": {},
   "outputs": [
    {
     "data": {
      "image/png": "[encoded data removed]",
      "text/plain": [
       "<Figure size 432x288 with 1 Axes>"
      ]
     },
     "metadata": {
      "needs_background": "light"
     },
     "output_type": "display_data"
    }
   ],
   "source": [
    "fig, ax = plt.subplots()\n",
    "\n",
    "for i in degree_cdf(g,100):\n",
    "    ax.plot(np.arange(len(i))+1, i, marker=\"o\")\n",
    "    for j in range(len(list(avg_res.values()))):\n",
    "        y_mean = [list(avg_res.values())[j]]*len(list(avg_res.values()))\n",
    "        ax.plot(list(avg_res), y_mean, linestyle=\"--\")"
   ]
  },
  {
   "cell_type": "code",
   "execution_count": null,
   "metadata": {},
   "outputs": [],
   "source": []
  }
 ],
 "metadata": {
  "kernelspec": {
   "display_name": "Python 3",
   "language": "python",
   "name": "python3"
  },
  "language_info": {
   "codemirror_mode": {
    "name": "ipython",
    "version": 3
   },
   "file_extension": ".py",
   "mimetype": "text/x-python",
   "name": "python",
   "nbconvert_exporter": "python",
   "pygments_lexer": "ipython3",
   "version": "3.7.6"
  }
 },
 "nbformat": 4,
 "nbformat_minor": 4
}
