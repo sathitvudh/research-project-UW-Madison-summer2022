{
 "cells": [
  {
   "cell_type": "code",
   "execution_count": 80,
   "id": "7f265a89",
   "metadata": {},
   "outputs": [],
   "source": [
    "import numpy as np\n",
    "import random\n",
    "from matplotlib import pyplot as plt\n",
    "import scipy as sp\n",
    "import networkx as nx"
   ]
  },
  {
   "cell_type": "markdown",
   "id": "a0ec849f",
   "metadata": {},
   "source": [
    "### Uniform Spanning Tree\n",
    "\n",
    "A spanning tree of a finite connected graph G is a connected subgraph of G containing every vertex and no cycles.  \n",
    "(Ref: https://mathweb.ucsd.edu/~jschwein/LERW.pdf)"
   ]
  },
  {
   "cell_type": "markdown",
   "id": "1e16d1a6",
   "metadata": {},
   "source": [
    "### Wilson's Algorithm\n",
    "\n",
    "0. Create empty cells\n",
    "1. Set the starting position\n",
    "2. While it's not a spanning tree\n",
    "    - Perform LERW in a network  \n",
    "        1) Pick any random position  \n",
    "        2) Perform a random walk  \n",
    "        3) Check if the position is already visited  \n",
    "            -- If yes, erase the loop and restart the walk\n",
    "            -- If no, add to the trace\n",
    "        4) Check if the current position is already in the trace"
   ]
  },
  {
   "cell_type": "markdown",
   "id": "00baeec9",
   "metadata": {},
   "source": [
    "### Version 1.1"
   ]
  },
  {
   "cell_type": "code",
   "execution_count": 74,
   "id": "6ad65db6",
   "metadata": {},
   "outputs": [],
   "source": [
    "# Define a function to perform LERW\n",
    "\n",
    "def LERW(start_position, goal, dim):\n",
    "    \n",
    "    visited_cell = []\n",
    "    current_position = start_position\n",
    "    visited_cell.append(current_position)\n",
    "    while current_position != goal:\n",
    "        neighbors = [(current_position[0],current_position[1]-1),(current_position[0],current_position[1]+1),\n",
    "                     (current_position[0]-1,current_position[1]),(current_position[0]+1,current_position[1])] # (left,right,up,down)\n",
    "        feasible_neighbors = [i for i in neighbors if (i[0] >= 0 and i[0] <= dim-1) and (i[1] >= 0 and i[1] <= dim-1)]\n",
    "        next_position = random.choice(feasible_neighbors)\n",
    "        # Check if there is a loop\n",
    "        if next_position not in visited_cell:\n",
    "            visited_cell.append(next_position)\n",
    "        else:\n",
    "            # reset path\n",
    "            if visited_cell.index(next_position) == 0:\n",
    "                visited_cell = [visited_cell[0]]\n",
    "            else:\n",
    "                visited_cell = visited_cell[:visited_cell.index(next_position)+1]\n",
    "\n",
    "        current_position = next_position\n",
    "    return start_position, goal, current_position, visited_cell\n",
    "\n",
    "def cont_LERW(set_path, remaining_cell, dim):\n",
    "    \n",
    "    new_path = []\n",
    "    new_start_position = random.choice(remaining_cell)\n",
    "    current_position = new_start_position\n",
    "    new_path.append(current_position)\n",
    "    \n",
    "    while current_position not in set_path:\n",
    "        neighbors = [(current_position[0],current_position[1]-1),(current_position[0],current_position[1]+1),\n",
    "                     (current_position[0]-1,current_position[1]),(current_position[0]+1,current_position[1])] # (left,right,up,down)\n",
    "        feasible_neighbors = [i for i in neighbors if (i[0] >= 0 and i[0] <= dim-1) and (i[1] >= 0 and i[1] <= dim-1)]\n",
    "        next_position = random.choice(feasible_neighbors)\n",
    "        \n",
    "        # Unprecedented path: add to the path\n",
    "        if (next_position not in new_path) and (next_position not in set_path):\n",
    "            new_path.append(next_position)\n",
    "        \n",
    "        # Adjoining path: add to the path and exit the loop\n",
    "        if next_position in set_path:\n",
    "            new_path.append(next_position)\n",
    "            break\n",
    "        \n",
    "        # Loop detected: perform loop-erased RW\n",
    "        if next_position in new_path:\n",
    "            if new_path.index(next_position) == 0:\n",
    "                new_path = [new_path[0]]\n",
    "            else:\n",
    "                new_path = new_path[:new_path.index(next_position)+1]\n",
    "                \n",
    "        # check if current_position is already in the path to goal.\n",
    "        current_position = next_position\n",
    "    return new_start_position, current_position, new_path"
   ]
  },
  {
   "cell_type": "code",
   "execution_count": 116,
   "id": "6f6a938f",
   "metadata": {},
   "outputs": [],
   "source": [
    "# Define a function sample_spanning_tree\n",
    "\n",
    "def sample_spanning_tree(spMatrix):\n",
    "    '''NOT DONE YET!\n",
    "    REMAINING TASKS:\n",
    "    1. Modify cont_LERW to correctly return the final result\n",
    "    2. Return the sparse matrix representing network from the main function'''\n",
    "    dim = spMatrix.getnnz()\n",
    "    universe = [(i,j) for i in range(spMatrix.getnnz()) for j in range(spMatrix.getnnz())]\n",
    "    start_position = random.choice(universe)\n",
    "    universe.remove(start_position)\n",
    "    goal = random.choice(universe)\n",
    "    set_path = LERW(start_position, goal, dim)[3]\n",
    "    \n",
    "    # After obtaining the first path to the goal, generate the next RW until it's a spanning tree.\n",
    "    remaining_cell = [i for i in universe if i not in set_path]\n",
    "    while len(remaining_cell) > 0:\n",
    "        add_path = cont_LERW(set_path, remaining_cell, dim)[2]\n",
    "        set_path.extend(add_path)\n",
    "        remaining_cell = [i for i in universe if i not in set_path]\n",
    "    return set_path, remaining_cell, add_path"
   ]
  },
  {
   "cell_type": "code",
   "execution_count": 119,
   "id": "6189f24b",
   "metadata": {},
   "outputs": [
    {
     "name": "stdout",
     "output_type": "stream",
     "text": [
      "  (0, 1)\t1.0\n",
      "  (1, 2)\t1.0\n"
     ]
    }
   ],
   "source": [
    "print(A)"
   ]
  },
  {
   "cell_type": "code",
   "execution_count": 128,
   "id": "9cdce80c",
   "metadata": {
    "scrolled": true
   },
   "outputs": [
    {
     "data": {
      "text/plain": [
       "([(3, 1),\n",
       "  (2, 1),\n",
       "  (2, 2),\n",
       "  (2, 3),\n",
       "  (1, 3),\n",
       "  (2, 3),\n",
       "  (1, 0),\n",
       "  (1, 1),\n",
       "  (2, 1),\n",
       "  (0, 2),\n",
       "  (0, 3),\n",
       "  (1, 3),\n",
       "  (1, 2),\n",
       "  (1, 3),\n",
       "  (2, 0),\n",
       "  (3, 0),\n",
       "  (3, 1),\n",
       "  (0, 0),\n",
       "  (1, 0),\n",
       "  (3, 3),\n",
       "  (2, 3),\n",
       "  (0, 1),\n",
       "  (0, 0),\n",
       "  (3, 2),\n",
       "  (2, 2)],\n",
       " [],\n",
       " [(3, 2), (2, 2)])"
      ]
     },
     "execution_count": 128,
     "metadata": {},
     "output_type": "execute_result"
    }
   ],
   "source": [
    "sample_spanning_tree(A)"
   ]
  },
  {
   "cell_type": "code",
   "execution_count": 111,
   "id": "8d465652",
   "metadata": {},
   "outputs": [
    {
     "data": {
      "text/plain": [
       "2"
      ]
     },
     "execution_count": 111,
     "metadata": {},
     "output_type": "execute_result"
    }
   ],
   "source": [
    "A.getnnz()"
   ]
  },
  {
   "cell_type": "markdown",
   "id": "14012605",
   "metadata": {},
   "source": [
    "### Version 1.2"
   ]
  },
  {
   "cell_type": "code",
   "execution_count": 529,
   "id": "1b0a69fd",
   "metadata": {},
   "outputs": [],
   "source": [
    "G = nx.MultiDiGraph()\n",
    "G.add_edge(0, 1)\n",
    "G.add_edge(1, 0)\n",
    "G.add_edge(2, 1)\n",
    "G.add_edge(1, 2)\n",
    "G.add_edge(0, 2)\n",
    "G.add_edge(2, 0)\n",
    "G.add_edge(3, 1)\n",
    "G.add_edge(1, 3)\n",
    "G.add_edge(2, 4)\n",
    "G.add_edge(4, 2)\n",
    "G.add_edge(3, 4)\n",
    "G.add_edge(4, 3)\n",
    "G.add_edge(2, 3)\n",
    "G.add_edge(3, 2)\n",
    "A = nx.to_scipy_sparse_matrix(G, nodelist=[0, 1, 2, 3, 4])"
   ]
  },
  {
   "cell_type": "code",
   "execution_count": 419,
   "id": "96b978ae",
   "metadata": {},
   "outputs": [
    {
     "name": "stdout",
     "output_type": "stream",
     "text": [
      "  (0, 1)\t1\n",
      "  (0, 2)\t1\n",
      "  (1, 0)\t1\n",
      "  (1, 2)\t1\n",
      "  (1, 3)\t1\n",
      "  (2, 0)\t1\n",
      "  (2, 1)\t1\n",
      "  (2, 3)\t1\n",
      "  (2, 4)\t1\n",
      "  (3, 1)\t1\n",
      "  (3, 2)\t1\n",
      "  (3, 4)\t1\n",
      "  (4, 2)\t1\n"
     ]
    }
   ],
   "source": [
    "print(A)"
   ]
  },
  {
   "cell_type": "code",
   "execution_count": 781,
   "id": "4010b6c3",
   "metadata": {
    "scrolled": true
   },
   "outputs": [],
   "source": [
    "A = nx.to_scipy_sparse_matrix(G, nodelist=[0, 1, 2, 3, 4])\n",
    "num_nodes = A.shape[0]\n",
    "A = A.todense()\n",
    "universe_node_list = list(range(num_nodes))\n",
    "unused_node_list = list(range(num_nodes))\n",
    "selected_node = [False for node in range(num_nodes)]\n",
    "output = [[0 for col in range(num_nodes)] for row in range(num_nodes)]\n",
    "start_node = random.choice(unused_node_list)\n",
    "unused_node_list.remove(start_node)\n",
    "terminal_node = random.choice(unused_node_list)\n",
    "unused_node_list.remove(terminal_node)\n",
    "path = []\n",
    "path.append(start_node)\n",
    "selected_node[start_node] = True"
   ]
  },
  {
   "cell_type": "code",
   "execution_count": 782,
   "id": "add31687",
   "metadata": {},
   "outputs": [
    {
     "data": {
      "text/plain": [
       "(1, 3)"
      ]
     },
     "execution_count": 782,
     "metadata": {},
     "output_type": "execute_result"
    }
   ],
   "source": [
    "(start_node, terminal_node)"
   ]
  },
  {
   "cell_type": "code",
   "execution_count": 783,
   "id": "cf29b248",
   "metadata": {},
   "outputs": [
    {
     "data": {
      "text/plain": [
       "[1]"
      ]
     },
     "execution_count": 783,
     "metadata": {},
     "output_type": "execute_result"
    }
   ],
   "source": [
    "path"
   ]
  },
  {
   "cell_type": "code",
   "execution_count": 784,
   "id": "dba26c25",
   "metadata": {},
   "outputs": [
    {
     "data": {
      "text/plain": [
       "False"
      ]
     },
     "execution_count": 784,
     "metadata": {},
     "output_type": "execute_result"
    }
   ],
   "source": [
    "selected_node[terminal_node]"
   ]
  },
  {
   "cell_type": "code",
   "execution_count": 785,
   "id": "4b7c409c",
   "metadata": {
    "scrolled": false
   },
   "outputs": [],
   "source": [
    "while selected_node[terminal_node] == False:\n",
    "    feasible_node = []\n",
    "    for j in range(num_nodes):\n",
    "        if A[start_node, j] > 0: # This node pair is connected        \n",
    "            feasible_node.append(j)\n",
    "    next_node = random.choice(feasible_node)\n",
    "    path.append(next_node)\n",
    "    \n",
    "    # If there's a loop\n",
    "    if selected_node[next_node]:\n",
    "        path = path[:path.index(next_node)+1]\n",
    "        start_node = next_node\n",
    "        continue\n",
    "\n",
    "    # If not, update a new initial node and add the edge to the graph\n",
    "    selected_node[next_node] = True\n",
    "    output[start_node][next_node] = 1\n",
    "    output[next_node][start_node] = 1\n",
    "    start_node = next_node"
   ]
  },
  {
   "cell_type": "code",
   "execution_count": 786,
   "id": "3a509ecb",
   "metadata": {},
   "outputs": [
    {
     "data": {
      "text/plain": [
       "[1, 2, 4, 3]"
      ]
     },
     "execution_count": 786,
     "metadata": {},
     "output_type": "execute_result"
    }
   ],
   "source": [
    "path"
   ]
  },
  {
   "cell_type": "code",
   "execution_count": 787,
   "id": "c7730914",
   "metadata": {},
   "outputs": [
    {
     "data": {
      "text/plain": [
       "[False, True, True, True, True]"
      ]
     },
     "execution_count": 787,
     "metadata": {},
     "output_type": "execute_result"
    }
   ],
   "source": [
    "selected_node"
   ]
  },
  {
   "cell_type": "code",
   "execution_count": 788,
   "id": "df2ae544",
   "metadata": {
    "scrolled": true
   },
   "outputs": [
    {
     "data": {
      "text/plain": [
       "[[0, 0, 0, 0, 0],\n",
       " [0, 0, 1, 0, 0],\n",
       " [0, 1, 0, 0, 1],\n",
       " [0, 0, 0, 0, 1],\n",
       " [0, 0, 1, 1, 0]]"
      ]
     },
     "execution_count": 788,
     "metadata": {},
     "output_type": "execute_result"
    }
   ],
   "source": [
    "output"
   ]
  },
  {
   "cell_type": "code",
   "execution_count": 789,
   "id": "540b8018",
   "metadata": {},
   "outputs": [
    {
     "data": {
      "text/plain": [
       "[0]"
      ]
     },
     "execution_count": 789,
     "metadata": {},
     "output_type": "execute_result"
    }
   ],
   "source": [
    "[i for i in range(len(selected_node)) if i == False]"
   ]
  },
  {
   "cell_type": "code",
   "execution_count": 790,
   "id": "d0814255",
   "metadata": {},
   "outputs": [],
   "source": [
    "# Continue picking a random remaining node and walk until we join the initial path\n",
    "\n",
    "add_path = []\n",
    "while (False in selected_node):\n",
    "    remaining_node = [i for i in range(len(selected_node)) if i == False]\n",
    "    new_start_node = random.choice(remaining_node)\n",
    "    remaining_node.remove(new_start_node)\n",
    "   \n",
    "    if len(remaining_node) > 0:\n",
    "        new_next_node = random.choice(remaining_node)\n",
    "        new_feasible_node = []\n",
    "        for j in range(num_nodes):\n",
    "            if A[new_start_node, j] > 0: # This node pair is connected        \n",
    "                new_feasible_node.append(j)\n",
    "        new_next_node = random.choice(new_feasible_node)\n",
    "\n",
    "    # Walk until it joins the original path\n",
    "    if new_next_node in path:\n",
    "        selected_node[new_next_node] = True\n",
    "        add_path.append((new_start_node, new_next_node))\n",
    "        output[new_start_node][new_next_node] = 1\n",
    "        output[new_next_node][new_start_node] = 1\n",
    "        break\n",
    "    else: # not joining the original path yet: check for a loop\n",
    "        if selected_node[new_next_node]:\n",
    "            add_path = add_path[:add_path.index(next_node)+1]\n",
    "            new_start_node = new_next_node\n",
    "            continue\n",
    "        else:\n",
    "            selected_node[new_next_node] = True\n",
    "            add_path.append((new_start_node, new_next_node))\n",
    "            output[new_start_node][new_next_node] = 1\n",
    "            output[new_next_node][new_start_node] = 1\n",
    "            new_start_node = new_next_node"
   ]
  },
  {
   "cell_type": "code",
   "execution_count": 791,
   "id": "3fb57930",
   "metadata": {},
   "outputs": [
    {
     "data": {
      "text/plain": [
       "[(0, 1)]"
      ]
     },
     "execution_count": 791,
     "metadata": {},
     "output_type": "execute_result"
    }
   ],
   "source": [
    "add_path"
   ]
  },
  {
   "cell_type": "code",
   "execution_count": 792,
   "id": "798f0df5",
   "metadata": {},
   "outputs": [
    {
     "data": {
      "text/plain": [
       "[[0, 1, 0, 0, 0],\n",
       " [1, 0, 1, 0, 0],\n",
       " [0, 1, 0, 0, 1],\n",
       " [0, 0, 0, 0, 1],\n",
       " [0, 0, 1, 1, 0]]"
      ]
     },
     "execution_count": 792,
     "metadata": {},
     "output_type": "execute_result"
    }
   ],
   "source": [
    "output"
   ]
  },
  {
   "cell_type": "code",
   "execution_count": 793,
   "id": "7e807c08",
   "metadata": {},
   "outputs": [
    {
     "name": "stdout",
     "output_type": "stream",
     "text": [
      "0 - 1: 1\n",
      "1 - 2: 1\n",
      "2 - 4: 1\n",
      "3 - 4: 1\n"
     ]
    }
   ],
   "source": [
    "for i in range(len(output)):\n",
    "    for j in range(0+i, len(output)):\n",
    "        if output[i][j] != 0:\n",
    "            print(\"%d - %d: %d\" % (i, j, output[i][j]))"
   ]
  },
  {
   "cell_type": "code",
   "execution_count": null,
   "id": "90de1000",
   "metadata": {},
   "outputs": [],
   "source": []
  }
 ],
 "metadata": {
  "kernelspec": {
   "display_name": "Python 3 (ipykernel)",
   "language": "python",
   "name": "python3"
  },
  "language_info": {
   "codemirror_mode": {
    "name": "ipython",
    "version": 3
   },
   "file_extension": ".py",
   "mimetype": "text/x-python",
   "name": "python",
   "nbconvert_exporter": "python",
   "pygments_lexer": "ipython3",
   "version": "3.9.7"
  }
 },
 "nbformat": 4,
 "nbformat_minor": 5
}
